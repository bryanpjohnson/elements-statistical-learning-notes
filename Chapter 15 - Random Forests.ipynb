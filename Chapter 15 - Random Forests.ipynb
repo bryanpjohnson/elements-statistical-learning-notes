{
 "cells": [
  {
   "cell_type": "markdown",
   "metadata": {},
   "source": [
    "# Chapter 15 - Random Forests"
   ]
  },
  {
   "cell_type": "markdown",
   "metadata": {},
   "source": [
    "### 15.1 - Introduction"
   ]
  },
  {
   "cell_type": "markdown",
   "metadata": {},
   "source": [
    "* Bagging or bootstrap aggregation (section 8.7) is a technique for reducing the variance of an estimated prediction function. Bagging seems to work especially well for high-variance, low-bias procedures, such as trees. \n",
    "* For regression, we simply fit the same regression tree many times to bootstrap sampled versions of the training data, and average the result. \n",
    "* For classification, a committee of trees each cast a vote for the predicted class.\n",
    "* Boosting has a committee of weak learners that evolve over time and the members cast a weighted vote. Boosting appears to dominate bagging on most problems, and became the preferred choice.\n",
    "* Random forests are a substantial modification of bagging that builds a large collection of de-correlated trees, and then averages them. \n",
    "* On many problems the performance of random forests is very similar to boosting, and they are simpler to train and tune. "
   ]
  },
  {
   "cell_type": "markdown",
   "metadata": {},
   "source": [
    "### 15.2 - Definition of Random Forests"
   ]
  },
  {
   "cell_type": "markdown",
   "metadata": {},
   "source": [
    "* Trees are ideal candidates for bagging, since they can capture complex interaction structures in the data, and if grown sufficiently deep, have relatively low bias.\n",
    "* Since trees are notoriously noisy, they benefit greatly from the averaging. \n",
    "* The bias of bagged trees is the same as that of the individual trees, and the only hope of improvement is through variance reduction. \n",
    "* We try to reduce the correlation between trees as much as possible. For this reason, we do things like select k <= p variables for each tree. Often $k=\\sqrt{p}$ or as small as 1.  This reduces the overall variance of the estimates.\n",
    "* Not all estimators can be improved by shaking up the data like this. It seems that highly nonlinear estimators, such as trees, benefit the most.\n",
    "* Random forests do remarkably well, with very little tuning required."
   ]
  },
  {
   "cell_type": "markdown",
   "metadata": {},
   "source": [
    "### 15.3 - Details of Random Forests"
   ]
  },
  {
   "cell_type": "markdown",
   "metadata": {},
   "source": [
    "* When used for classification, a random forest obtains a class vote from each tree, and then classifies using majority vote. \n",
    "* When used for regression, the predictions from each tree at a target point x are simply averaged.\n",
    "\n",
    "Recommended default hyper-parameters:\n",
    "* For classification, the default value for m is $\\sqrt{p}$ and the minimum node size is one.\n",
    "* For regression, the default value for m is $p/3$ and the minimum node size is five.\n",
    "* In practice, they should be treated as tuning parameters.\n",
    "\n",
    "**Out of Bag Samples**\n",
    "* Out of bag sample -- for each observation $z_i = (x_i,y_i)$, construct its random forest predictor by averaging only those trees corresponding to bootstrap samples in which $z_i$ did not appear.\n",
    "* An OOB error estimate is almost identical to that obtained by N-fold cross-validation.\n",
    "* Hence unlike many other nonlinear estimators, random forests can be fit in one sequence, with cross-validation being performed along the way. \n",
    "* Once the OOB error stabilizes, the training can be terminated.\n",
    "\n",
    "**Variable Importance**\n",
    "* At each split in each tree, the improvement in the split-criterion is the importance measure attributed to the splitting variable, and is accumulated over all the trees in the forest separately for each variable.\n",
    "* An alternative way to find variable importance is to pass the OOB samples down the tree and record the error. Then, you take the $j^{th}$ feature and randomly permute it (scramble its values) and then compute the OOB error again and see how much worse the error is.  The scrambling is intended to make the variable useless.\n",
    "\n",
    "**Proximity Plots**\n",
    "* Create an NxN matrix for the observation data.\n",
    "* For every tree, any pair of OOB observations sharing a terminal node has their proximity increased by one. \n",
    "* The proximity plot gives an indication of which observations are effectively close together in the eyes of the random forest classifier.\n",
    "* Proximity plots for random forests often look very similar, irrespective of the data, which casts doubt on their utility. \n",
    "\n",
    "**Random Forests and Overfitting**\n",
    "* When the number of variables is large, but the fraction of relevant variables small, random forests are likely to perform poorly with small m. At each split the chance can be small that the relevant variables will be selected.\n",
    "* When the number of relevant variables increases, the performance of random forests is surprisingly robust to an increase in the number of noise variables. \n",
    "* With 6 relevant and 100 noise variables, the probability of a relevant variable being selected at any split is 0.46 assuming $m = \\sqrt{p} = \\sqrt{106}$.\n",
    "* Increasing B (the number of trees) does not cause the random forest sequence to overfit.\n",
    "* The average of fully grown (not controlling the depth) trees can result in too rich of model, and incur unnecessary variance."
   ]
  },
  {
   "cell_type": "markdown",
   "metadata": {},
   "source": [
    "### 15.4 - Analysis of Random Forests"
   ]
  },
  {
   "cell_type": "markdown",
   "metadata": {},
   "source": [
    "* Correlation between pairs of trees decreases as $m$ decreases (the number of variables randomly chosen).\n",
    "* As in bagging, the bias of a random forest is the same as the bias of any of the individual sampled trees.\n",
    "* Improvements in the prediction obtained by bagging or random forests are solely a result of variance reduction.\n",
    "* As $m$ decreases, the bias increases."
   ]
  },
  {
   "cell_type": "code",
   "execution_count": 1,
   "metadata": {},
   "outputs": [
    {
     "name": "stdout",
     "output_type": "stream",
     "text": [
      "Accuracy Score: 0.9736842105263158\n",
      "Feature ranking:\n",
      "1. feature 2 (0.442171)\n",
      "2. feature 3 (0.424505)\n",
      "3. feature 0 (0.098740)\n",
      "4. feature 1 (0.034584)\n"
     ]
    },
    {
     "data": {
      "image/png": "[encoded data removed]",
      "text/plain": [
       "<Figure size 432x288 with 1 Axes>"
      ]
     },
     "metadata": {
      "needs_background": "light"
     },
     "output_type": "display_data"
    }
   ],
   "source": [
    "import numpy as np\n",
    "from sklearn.ensemble import RandomForestClassifier\n",
    "from sklearn.datasets import load_iris\n",
    "from sklearn.model_selection import train_test_split\n",
    "from sklearn.metrics import accuracy_score\n",
    "import matplotlib.pyplot as plt\n",
    "%matplotlib inline\n",
    "\n",
    "iris = load_iris()\n",
    "X = iris.data\n",
    "y = iris.target\n",
    "\n",
    "X_train, X_test, y_train, y_test = train_test_split(X, y , random_state = 1)\n",
    "clf = RandomForestClassifier(n_estimators=100)\n",
    "clf.fit(X_train, y_train)\n",
    "predicted = clf.predict(X_test)\n",
    "print('Accuracy Score: {}'.format(accuracy_score(predicted, y_test)))\n",
    "\n",
    "importances = clf.feature_importances_\n",
    "std = np.std([tree.feature_importances_ for tree in clf.estimators_], axis=0)\n",
    "indices = np.argsort(importances)[::-1]\n",
    "\n",
    "# Print the feature ranking\n",
    "print(\"Feature ranking:\")\n",
    "for f in range(X.shape[1]):\n",
    "    print(\"%d. feature %d (%f)\" % (f + 1, indices[f], importances[indices[f]]))\n",
    "\n",
    "# Plot the feature importances of the forest\n",
    "plt.figure()\n",
    "plt.title(\"Feature importances\")\n",
    "plt.bar(range(X.shape[1]), importances[indices],\n",
    "       color=\"r\", yerr=std[indices], align=\"center\")\n",
    "plt.xticks(range(X.shape[1]), indices)\n",
    "plt.xlim([-1, X.shape[1]])\n",
    "plt.show()"
   ]
  }
 ],
 "metadata": {
  "kernelspec": {
   "display_name": "Python 3",
   "language": "python",
   "name": "python3"
  },
  "language_info": {
   "codemirror_mode": {
    "name": "ipython",
    "version": 3
   },
   "file_extension": ".py",
   "mimetype": "text/x-python",
   "name": "python",
   "nbconvert_exporter": "python",
   "pygments_lexer": "ipython3",
   "version": "3.6.9"
  }
 },
 "nbformat": 4,
 "nbformat_minor": 4
}
