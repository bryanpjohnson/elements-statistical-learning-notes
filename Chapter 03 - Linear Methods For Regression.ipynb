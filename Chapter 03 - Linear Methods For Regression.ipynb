{
 "cells": [
  {
   "cell_type": "markdown",
   "metadata": {
    "deletable": true,
    "editable": true
   },
   "source": [
    "# Chapter 3 - Linear Methods For Regression"
   ]
  },
  {
   "cell_type": "markdown",
   "metadata": {
    "deletable": true,
    "editable": true
   },
   "source": [
    "## Section 3.1"
   ]
  },
  {
   "cell_type": "markdown",
   "metadata": {
    "deletable": true,
    "editable": true
   },
   "source": [
    "* Largely developed in pre-computer age, but still useful, especially in cases of small training set or sparse data.\n",
    "* Easy to interpret.\n",
    "* Can be expanded in scope by applying transformation to features."
   ]
  },
  {
   "cell_type": "markdown",
   "metadata": {
    "deletable": true,
    "editable": true
   },
   "source": [
    "## Section 3.2"
   ]
  },
  {
   "cell_type": "markdown",
   "metadata": {
    "deletable": true,
    "editable": true
   },
   "source": [
    "$f(X) = \\beta_{0} + \\sum_{j = 1}^{p} X_{j}*\\beta_{j}$\n",
    "\n",
    "Features can be\n",
    "\n",
    "* Quantitative inputs\n",
    "* Transformations of quantitative inputs (e.g. log)\n",
    "* Basis expansion (e.g. $X_{2} = X_{1}^{2}, \\ X_{3} = X{1}^3$)\n",
    "* One-hot or dummy encoding of qualitative variables\n",
    "* Interactions between variables (e.g. $X_{3} = X_{1}*X_{2}$)\n",
    "\n",
    "While these new interaction or basis terms can be non-linear, the model is still linear in the parameters $\\beta_{j}$.  However, these new terms can create a richer model than what is otherwise possible.\n",
    "\n",
    "**Least squares** - method in which we pick the coefficients $\\beta_{j}$ in order to minimize the RSS where $RSS = \\sum_{i=1}^{N}(y_{i} - f(x_{i}))^2$ for N training points.\n",
    "\n",
    "The coefficients $\\beta_{j}$ are selected by minimizing the RSS function using calculus. The first derivative is taken and set = 0 and then the corresponding linear algebra is solved to obtain $\\vec{\\beta}$.\n",
    "\n",
    "Residual vector $\\hat{y} - y = (y-X\\beta)$. Because $X^T(y-X\\beta)=0$ from our minimization, the residual vector can be said to be orthogonal to the subspace spanned by $X$.  Thus $\\hat{y}$ is the orthogonal projection of $y$ onto this subspace.\n",
    "\n",
    "Redundant columns (e.g. those that are linearly dependent, i.e. a scalar multiple of others) can cause issues because then $X$ is not full rank and the math will not work out as expected.  There will be more than 1 solution to the equation.  Near linear independence can also cause difficulties with the optimization algorithms.\n",
    "\n",
    "Rank deficiencies can also occur if the number of features is > number of training samples. "
   ]
  },
  {
   "cell_type": "code",
   "execution_count": 1,
   "metadata": {
    "collapsed": false,
    "deletable": true,
    "editable": true,
    "jupyter": {
     "outputs_hidden": false
    }
   },
   "outputs": [],
   "source": [
    "import pandas\n",
    "X = pandas.read_csv('./data/Chapter3/lung_cancer_features.csv', index_col=0)\n",
    "y = pandas.read_csv('./data/Chapter3/lung_cancer_response.csv', index_col=0)"
   ]
  },
  {
   "cell_type": "code",
   "execution_count": 2,
   "metadata": {
    "collapsed": false,
    "deletable": true,
    "editable": true,
    "jupyter": {
     "outputs_hidden": false
    }
   },
   "outputs": [
    {
     "name": "stdout",
     "output_type": "stream",
     "text": [
      "Feature shape: (181, 12533)\n",
      "Response shape: (181, 1)\n"
     ]
    }
   ],
   "source": [
    "print('Feature shape: {0}'.format(X.shape))\n",
    "print('Response shape: {0}'.format(y.shape))\n",
    "\n",
    "# as you can see we have high dimensional data where # features > # training samples"
   ]
  },
  {
   "cell_type": "code",
   "execution_count": 3,
   "metadata": {
    "collapsed": false,
    "deletable": true,
    "editable": true,
    "jupyter": {
     "outputs_hidden": false
    }
   },
   "outputs": [
    {
     "data": {
      "text/plain": [
       "0.9995559173435511"
      ]
     },
     "execution_count": 3,
     "metadata": {},
     "output_type": "execute_result"
    }
   ],
   "source": [
    "# Curse of dimensionality formula\n",
    "(1-0.5**(1.0/181))**(1.0/12533)"
   ]
  },
  {
   "cell_type": "code",
   "execution_count": 4,
   "metadata": {
    "deletable": true,
    "editable": true
   },
   "outputs": [],
   "source": [
    "# Correlation matrix on features\n",
    "correlations = X.corr()"
   ]
  },
  {
   "cell_type": "code",
   "execution_count": 5,
   "metadata": {
    "collapsed": false,
    "deletable": true,
    "editable": true,
    "jupyter": {
     "outputs_hidden": false
    }
   },
   "outputs": [
    {
     "data": {
      "text/html": [
       "<div>\n",
       "<style scoped>\n",
       "    .dataframe tbody tr th:only-of-type {\n",
       "        vertical-align: middle;\n",
       "    }\n",
       "\n",
       "    .dataframe tbody tr th {\n",
       "        vertical-align: top;\n",
       "    }\n",
       "\n",
       "    .dataframe thead th {\n",
       "        text-align: right;\n",
       "    }\n",
       "</style>\n",
       "<table border=\"1\" class=\"dataframe\">\n",
       "  <thead>\n",
       "    <tr style=\"text-align: right;\">\n",
       "      <th></th>\n",
       "      <th>response</th>\n",
       "    </tr>\n",
       "  </thead>\n",
       "  <tbody>\n",
       "    <tr>\n",
       "      <th>1</th>\n",
       "      <td>mesothelioma</td>\n",
       "    </tr>\n",
       "    <tr>\n",
       "      <th>2</th>\n",
       "      <td>mesothelioma</td>\n",
       "    </tr>\n",
       "    <tr>\n",
       "      <th>3</th>\n",
       "      <td>mesothelioma</td>\n",
       "    </tr>\n",
       "    <tr>\n",
       "      <th>4</th>\n",
       "      <td>mesothelioma</td>\n",
       "    </tr>\n",
       "    <tr>\n",
       "      <th>5</th>\n",
       "      <td>mesothelioma</td>\n",
       "    </tr>\n",
       "    <tr>\n",
       "      <th>...</th>\n",
       "      <td>...</td>\n",
       "    </tr>\n",
       "    <tr>\n",
       "      <th>177</th>\n",
       "      <td>adenocarcinoma</td>\n",
       "    </tr>\n",
       "    <tr>\n",
       "      <th>178</th>\n",
       "      <td>adenocarcinoma</td>\n",
       "    </tr>\n",
       "    <tr>\n",
       "      <th>179</th>\n",
       "      <td>adenocarcinoma</td>\n",
       "    </tr>\n",
       "    <tr>\n",
       "      <th>180</th>\n",
       "      <td>adenocarcinoma</td>\n",
       "    </tr>\n",
       "    <tr>\n",
       "      <th>181</th>\n",
       "      <td>adenocarcinoma</td>\n",
       "    </tr>\n",
       "  </tbody>\n",
       "</table>\n",
       "<p>181 rows × 1 columns</p>\n",
       "</div>"
      ],
      "text/plain": [
       "           response\n",
       "1      mesothelioma\n",
       "2      mesothelioma\n",
       "3      mesothelioma\n",
       "4      mesothelioma\n",
       "5      mesothelioma\n",
       "..              ...\n",
       "177  adenocarcinoma\n",
       "178  adenocarcinoma\n",
       "179  adenocarcinoma\n",
       "180  adenocarcinoma\n",
       "181  adenocarcinoma\n",
       "\n",
       "[181 rows x 1 columns]"
      ]
     },
     "execution_count": 5,
     "metadata": {},
     "output_type": "execute_result"
    }
   ],
   "source": [
    "y"
   ]
  },
  {
   "cell_type": "code",
   "execution_count": 6,
   "metadata": {
    "collapsed": false,
    "deletable": true,
    "editable": true,
    "jupyter": {
     "outputs_hidden": false
    }
   },
   "outputs": [
    {
     "data": {
      "text/html": [
       "<div>\n",
       "<style scoped>\n",
       "    .dataframe tbody tr th:only-of-type {\n",
       "        vertical-align: middle;\n",
       "    }\n",
       "\n",
       "    .dataframe tbody tr th {\n",
       "        vertical-align: top;\n",
       "    }\n",
       "\n",
       "    .dataframe thead th {\n",
       "        text-align: right;\n",
       "    }\n",
       "</style>\n",
       "<table border=\"1\" class=\"dataframe\">\n",
       "  <thead>\n",
       "    <tr style=\"text-align: right;\">\n",
       "      <th></th>\n",
       "      <th>1000_at</th>\n",
       "      <th>1001_at</th>\n",
       "      <th>1002_f_at</th>\n",
       "      <th>1003_s_at</th>\n",
       "      <th>1004_at</th>\n",
       "      <th>1005_at</th>\n",
       "      <th>1006_at</th>\n",
       "      <th>1007_s_at</th>\n",
       "      <th>1008_f_at</th>\n",
       "      <th>1009_at</th>\n",
       "      <th>...</th>\n",
       "      <th>989_at</th>\n",
       "      <th>990_at</th>\n",
       "      <th>991_g_at</th>\n",
       "      <th>992_at</th>\n",
       "      <th>993_at</th>\n",
       "      <th>994_at</th>\n",
       "      <th>995_g_at</th>\n",
       "      <th>996_at</th>\n",
       "      <th>998_s_at</th>\n",
       "      <th>999_at</th>\n",
       "    </tr>\n",
       "  </thead>\n",
       "  <tbody>\n",
       "    <tr>\n",
       "      <th>1000_at</th>\n",
       "      <td>1.000000</td>\n",
       "      <td>-0.043401</td>\n",
       "      <td>-0.106262</td>\n",
       "      <td>-0.187240</td>\n",
       "      <td>-0.051083</td>\n",
       "      <td>-0.059817</td>\n",
       "      <td>0.026196</td>\n",
       "      <td>0.150805</td>\n",
       "      <td>-0.019221</td>\n",
       "      <td>-0.093804</td>\n",
       "      <td>...</td>\n",
       "      <td>-0.158659</td>\n",
       "      <td>0.055587</td>\n",
       "      <td>0.045566</td>\n",
       "      <td>0.015008</td>\n",
       "      <td>0.041214</td>\n",
       "      <td>-0.015864</td>\n",
       "      <td>0.045199</td>\n",
       "      <td>0.021438</td>\n",
       "      <td>0.038466</td>\n",
       "      <td>-0.094613</td>\n",
       "    </tr>\n",
       "    <tr>\n",
       "      <th>1001_at</th>\n",
       "      <td>-0.043401</td>\n",
       "      <td>1.000000</td>\n",
       "      <td>0.079289</td>\n",
       "      <td>0.037468</td>\n",
       "      <td>0.140561</td>\n",
       "      <td>0.283577</td>\n",
       "      <td>0.157358</td>\n",
       "      <td>-0.113356</td>\n",
       "      <td>0.258841</td>\n",
       "      <td>-0.184640</td>\n",
       "      <td>...</td>\n",
       "      <td>-0.281355</td>\n",
       "      <td>0.287193</td>\n",
       "      <td>0.226201</td>\n",
       "      <td>-0.044464</td>\n",
       "      <td>-0.207977</td>\n",
       "      <td>0.247879</td>\n",
       "      <td>0.274741</td>\n",
       "      <td>-0.144453</td>\n",
       "      <td>-0.186025</td>\n",
       "      <td>-0.105916</td>\n",
       "    </tr>\n",
       "    <tr>\n",
       "      <th>1002_f_at</th>\n",
       "      <td>-0.106262</td>\n",
       "      <td>0.079289</td>\n",
       "      <td>1.000000</td>\n",
       "      <td>0.084790</td>\n",
       "      <td>0.160398</td>\n",
       "      <td>-0.044737</td>\n",
       "      <td>-0.034900</td>\n",
       "      <td>0.073034</td>\n",
       "      <td>0.068408</td>\n",
       "      <td>0.040655</td>\n",
       "      <td>...</td>\n",
       "      <td>-0.080264</td>\n",
       "      <td>0.075682</td>\n",
       "      <td>0.108818</td>\n",
       "      <td>-0.038409</td>\n",
       "      <td>0.108815</td>\n",
       "      <td>0.101355</td>\n",
       "      <td>0.007600</td>\n",
       "      <td>0.050601</td>\n",
       "      <td>0.097334</td>\n",
       "      <td>-0.069340</td>\n",
       "    </tr>\n",
       "    <tr>\n",
       "      <th>1003_s_at</th>\n",
       "      <td>-0.187240</td>\n",
       "      <td>0.037468</td>\n",
       "      <td>0.084790</td>\n",
       "      <td>1.000000</td>\n",
       "      <td>-0.320351</td>\n",
       "      <td>0.100152</td>\n",
       "      <td>-0.059123</td>\n",
       "      <td>-0.237124</td>\n",
       "      <td>0.285958</td>\n",
       "      <td>0.129374</td>\n",
       "      <td>...</td>\n",
       "      <td>-0.009194</td>\n",
       "      <td>-0.077167</td>\n",
       "      <td>-0.242421</td>\n",
       "      <td>-0.095101</td>\n",
       "      <td>-0.211643</td>\n",
       "      <td>-0.051440</td>\n",
       "      <td>-0.140417</td>\n",
       "      <td>0.049930</td>\n",
       "      <td>-0.506415</td>\n",
       "      <td>-0.098000</td>\n",
       "    </tr>\n",
       "    <tr>\n",
       "      <th>1004_at</th>\n",
       "      <td>-0.051083</td>\n",
       "      <td>0.140561</td>\n",
       "      <td>0.160398</td>\n",
       "      <td>-0.320351</td>\n",
       "      <td>1.000000</td>\n",
       "      <td>0.048034</td>\n",
       "      <td>0.148798</td>\n",
       "      <td>0.151428</td>\n",
       "      <td>-0.257692</td>\n",
       "      <td>-0.096516</td>\n",
       "      <td>...</td>\n",
       "      <td>-0.201821</td>\n",
       "      <td>0.074393</td>\n",
       "      <td>0.240481</td>\n",
       "      <td>0.064276</td>\n",
       "      <td>0.098117</td>\n",
       "      <td>0.158331</td>\n",
       "      <td>0.128278</td>\n",
       "      <td>-0.145383</td>\n",
       "      <td>0.246493</td>\n",
       "      <td>-0.010224</td>\n",
       "    </tr>\n",
       "    <tr>\n",
       "      <th>...</th>\n",
       "      <td>...</td>\n",
       "      <td>...</td>\n",
       "      <td>...</td>\n",
       "      <td>...</td>\n",
       "      <td>...</td>\n",
       "      <td>...</td>\n",
       "      <td>...</td>\n",
       "      <td>...</td>\n",
       "      <td>...</td>\n",
       "      <td>...</td>\n",
       "      <td>...</td>\n",
       "      <td>...</td>\n",
       "      <td>...</td>\n",
       "      <td>...</td>\n",
       "      <td>...</td>\n",
       "      <td>...</td>\n",
       "      <td>...</td>\n",
       "      <td>...</td>\n",
       "      <td>...</td>\n",
       "      <td>...</td>\n",
       "      <td>...</td>\n",
       "    </tr>\n",
       "    <tr>\n",
       "      <th>994_at</th>\n",
       "      <td>-0.015864</td>\n",
       "      <td>0.247879</td>\n",
       "      <td>0.101355</td>\n",
       "      <td>-0.051440</td>\n",
       "      <td>0.158331</td>\n",
       "      <td>0.056327</td>\n",
       "      <td>0.054608</td>\n",
       "      <td>0.016592</td>\n",
       "      <td>0.101494</td>\n",
       "      <td>-0.150710</td>\n",
       "      <td>...</td>\n",
       "      <td>-0.097280</td>\n",
       "      <td>0.178722</td>\n",
       "      <td>0.043115</td>\n",
       "      <td>-0.000925</td>\n",
       "      <td>-0.012285</td>\n",
       "      <td>1.000000</td>\n",
       "      <td>0.768621</td>\n",
       "      <td>-0.042210</td>\n",
       "      <td>0.080972</td>\n",
       "      <td>-0.088436</td>\n",
       "    </tr>\n",
       "    <tr>\n",
       "      <th>995_g_at</th>\n",
       "      <td>0.045199</td>\n",
       "      <td>0.274741</td>\n",
       "      <td>0.007600</td>\n",
       "      <td>-0.140417</td>\n",
       "      <td>0.128278</td>\n",
       "      <td>0.179719</td>\n",
       "      <td>0.036542</td>\n",
       "      <td>-0.012366</td>\n",
       "      <td>-0.123745</td>\n",
       "      <td>-0.315493</td>\n",
       "      <td>...</td>\n",
       "      <td>-0.087849</td>\n",
       "      <td>0.034695</td>\n",
       "      <td>-0.018871</td>\n",
       "      <td>0.034726</td>\n",
       "      <td>0.082119</td>\n",
       "      <td>0.768621</td>\n",
       "      <td>1.000000</td>\n",
       "      <td>-0.142548</td>\n",
       "      <td>0.071190</td>\n",
       "      <td>0.077247</td>\n",
       "    </tr>\n",
       "    <tr>\n",
       "      <th>996_at</th>\n",
       "      <td>0.021438</td>\n",
       "      <td>-0.144453</td>\n",
       "      <td>0.050601</td>\n",
       "      <td>0.049930</td>\n",
       "      <td>-0.145383</td>\n",
       "      <td>-0.041597</td>\n",
       "      <td>-0.090716</td>\n",
       "      <td>0.011012</td>\n",
       "      <td>-0.035910</td>\n",
       "      <td>0.012591</td>\n",
       "      <td>...</td>\n",
       "      <td>0.060109</td>\n",
       "      <td>-0.018147</td>\n",
       "      <td>-0.053980</td>\n",
       "      <td>0.022772</td>\n",
       "      <td>-0.008240</td>\n",
       "      <td>-0.042210</td>\n",
       "      <td>-0.142548</td>\n",
       "      <td>1.000000</td>\n",
       "      <td>0.067519</td>\n",
       "      <td>-0.114431</td>\n",
       "    </tr>\n",
       "    <tr>\n",
       "      <th>998_s_at</th>\n",
       "      <td>0.038466</td>\n",
       "      <td>-0.186025</td>\n",
       "      <td>0.097334</td>\n",
       "      <td>-0.506415</td>\n",
       "      <td>0.246493</td>\n",
       "      <td>-0.043764</td>\n",
       "      <td>0.047183</td>\n",
       "      <td>0.077264</td>\n",
       "      <td>-0.265170</td>\n",
       "      <td>-0.001199</td>\n",
       "      <td>...</td>\n",
       "      <td>0.100336</td>\n",
       "      <td>-0.082022</td>\n",
       "      <td>0.112331</td>\n",
       "      <td>0.158404</td>\n",
       "      <td>0.206916</td>\n",
       "      <td>0.080972</td>\n",
       "      <td>0.071190</td>\n",
       "      <td>0.067519</td>\n",
       "      <td>1.000000</td>\n",
       "      <td>0.213583</td>\n",
       "    </tr>\n",
       "    <tr>\n",
       "      <th>999_at</th>\n",
       "      <td>-0.094613</td>\n",
       "      <td>-0.105916</td>\n",
       "      <td>-0.069340</td>\n",
       "      <td>-0.098000</td>\n",
       "      <td>-0.010224</td>\n",
       "      <td>0.114019</td>\n",
       "      <td>-0.000507</td>\n",
       "      <td>-0.063247</td>\n",
       "      <td>-0.218883</td>\n",
       "      <td>-0.127193</td>\n",
       "      <td>...</td>\n",
       "      <td>0.282566</td>\n",
       "      <td>-0.123308</td>\n",
       "      <td>-0.140219</td>\n",
       "      <td>0.224675</td>\n",
       "      <td>0.189403</td>\n",
       "      <td>-0.088436</td>\n",
       "      <td>0.077247</td>\n",
       "      <td>-0.114431</td>\n",
       "      <td>0.213583</td>\n",
       "      <td>1.000000</td>\n",
       "    </tr>\n",
       "  </tbody>\n",
       "</table>\n",
       "<p>12533 rows × 12533 columns</p>\n",
       "</div>"
      ],
      "text/plain": [
       "            1000_at   1001_at  1002_f_at  1003_s_at   1004_at   1005_at  \\\n",
       "1000_at    1.000000 -0.043401  -0.106262  -0.187240 -0.051083 -0.059817   \n",
       "1001_at   -0.043401  1.000000   0.079289   0.037468  0.140561  0.283577   \n",
       "1002_f_at -0.106262  0.079289   1.000000   0.084790  0.160398 -0.044737   \n",
       "1003_s_at -0.187240  0.037468   0.084790   1.000000 -0.320351  0.100152   \n",
       "1004_at   -0.051083  0.140561   0.160398  -0.320351  1.000000  0.048034   \n",
       "...             ...       ...        ...        ...       ...       ...   \n",
       "994_at    -0.015864  0.247879   0.101355  -0.051440  0.158331  0.056327   \n",
       "995_g_at   0.045199  0.274741   0.007600  -0.140417  0.128278  0.179719   \n",
       "996_at     0.021438 -0.144453   0.050601   0.049930 -0.145383 -0.041597   \n",
       "998_s_at   0.038466 -0.186025   0.097334  -0.506415  0.246493 -0.043764   \n",
       "999_at    -0.094613 -0.105916  -0.069340  -0.098000 -0.010224  0.114019   \n",
       "\n",
       "            1006_at  1007_s_at  1008_f_at   1009_at  ...    989_at    990_at  \\\n",
       "1000_at    0.026196   0.150805  -0.019221 -0.093804  ... -0.158659  0.055587   \n",
       "1001_at    0.157358  -0.113356   0.258841 -0.184640  ... -0.281355  0.287193   \n",
       "1002_f_at -0.034900   0.073034   0.068408  0.040655  ... -0.080264  0.075682   \n",
       "1003_s_at -0.059123  -0.237124   0.285958  0.129374  ... -0.009194 -0.077167   \n",
       "1004_at    0.148798   0.151428  -0.257692 -0.096516  ... -0.201821  0.074393   \n",
       "...             ...        ...        ...       ...  ...       ...       ...   \n",
       "994_at     0.054608   0.016592   0.101494 -0.150710  ... -0.097280  0.178722   \n",
       "995_g_at   0.036542  -0.012366  -0.123745 -0.315493  ... -0.087849  0.034695   \n",
       "996_at    -0.090716   0.011012  -0.035910  0.012591  ...  0.060109 -0.018147   \n",
       "998_s_at   0.047183   0.077264  -0.265170 -0.001199  ...  0.100336 -0.082022   \n",
       "999_at    -0.000507  -0.063247  -0.218883 -0.127193  ...  0.282566 -0.123308   \n",
       "\n",
       "           991_g_at    992_at    993_at    994_at  995_g_at    996_at  \\\n",
       "1000_at    0.045566  0.015008  0.041214 -0.015864  0.045199  0.021438   \n",
       "1001_at    0.226201 -0.044464 -0.207977  0.247879  0.274741 -0.144453   \n",
       "1002_f_at  0.108818 -0.038409  0.108815  0.101355  0.007600  0.050601   \n",
       "1003_s_at -0.242421 -0.095101 -0.211643 -0.051440 -0.140417  0.049930   \n",
       "1004_at    0.240481  0.064276  0.098117  0.158331  0.128278 -0.145383   \n",
       "...             ...       ...       ...       ...       ...       ...   \n",
       "994_at     0.043115 -0.000925 -0.012285  1.000000  0.768621 -0.042210   \n",
       "995_g_at  -0.018871  0.034726  0.082119  0.768621  1.000000 -0.142548   \n",
       "996_at    -0.053980  0.022772 -0.008240 -0.042210 -0.142548  1.000000   \n",
       "998_s_at   0.112331  0.158404  0.206916  0.080972  0.071190  0.067519   \n",
       "999_at    -0.140219  0.224675  0.189403 -0.088436  0.077247 -0.114431   \n",
       "\n",
       "           998_s_at    999_at  \n",
       "1000_at    0.038466 -0.094613  \n",
       "1001_at   -0.186025 -0.105916  \n",
       "1002_f_at  0.097334 -0.069340  \n",
       "1003_s_at -0.506415 -0.098000  \n",
       "1004_at    0.246493 -0.010224  \n",
       "...             ...       ...  \n",
       "994_at     0.080972 -0.088436  \n",
       "995_g_at   0.071190  0.077247  \n",
       "996_at     0.067519 -0.114431  \n",
       "998_s_at   1.000000  0.213583  \n",
       "999_at     0.213583  1.000000  \n",
       "\n",
       "[12533 rows x 12533 columns]"
      ]
     },
     "execution_count": 6,
     "metadata": {},
     "output_type": "execute_result"
    }
   ],
   "source": [
    "correlations"
   ]
  },
  {
   "cell_type": "code",
   "execution_count": 7,
   "metadata": {
    "collapsed": false,
    "deletable": true,
    "editable": true,
    "jupyter": {
     "outputs_hidden": false
    }
   },
   "outputs": [],
   "source": [
    "import numpy as np\n",
    "\n",
    "# Fill diagonal with np.nan because we don't care about self correlation\n",
    "np.fill_diagonal(correlations.values, np.nan)\n",
    "ranked_correlations = correlations.unstack().abs().sort_values(kind=\"quicksort\", ascending=False)"
   ]
  },
  {
   "cell_type": "code",
   "execution_count": 8,
   "metadata": {
    "collapsed": false,
    "deletable": true,
    "editable": true,
    "jupyter": {
     "outputs_hidden": false
    }
   },
   "outputs": [
    {
     "name": "stdout",
     "output_type": "stream",
     "text": [
      "Top 25 correlated features:\n"
     ]
    },
    {
     "data": {
      "text/plain": [
       "769_s_at    31444_s_at    0.996305\n",
       "31444_s_at  769_s_at      0.996305\n",
       "33273_f_at  33274_f_at    0.996099\n",
       "33274_f_at  33273_f_at    0.996099\n",
       "38406_f_at  216_at        0.991874\n",
       "216_at      38406_f_at    0.991874\n",
       "41839_at    661_at        0.991816\n",
       "661_at      41839_at      0.991816\n",
       "1430_at     37782_at      0.991006\n",
       "37782_at    1430_at       0.991006\n",
       "41827_f_at  33274_f_at    0.990270\n",
       "33274_f_at  41827_f_at    0.990270\n",
       "33671_f_at  31960_f_at    0.989805\n",
       "31960_f_at  33671_f_at    0.989805\n",
       "38784_g_at  700_s_at      0.987599\n",
       "700_s_at    38784_g_at    0.987599\n",
       "39209_r_at  39208_i_at    0.987142\n",
       "39208_i_at  39209_r_at    0.987142\n",
       "31477_at    37897_s_at    0.986867\n",
       "37897_s_at  31477_at      0.986867\n",
       "35726_at    2027_at       0.985865\n",
       "2027_at     35726_at      0.985865\n",
       "36300_at    36299_at      0.985747\n",
       "36299_at    36300_at      0.985747\n",
       "37065_f_at  33671_f_at    0.985108\n",
       "dtype: float64"
      ]
     },
     "execution_count": 8,
     "metadata": {},
     "output_type": "execute_result"
    }
   ],
   "source": [
    "print(\"Top 25 correlated features:\")\n",
    "ranked_correlations[0:25]"
   ]
  },
  {
   "cell_type": "code",
   "execution_count": 9,
   "metadata": {
    "collapsed": false,
    "deletable": true,
    "editable": true,
    "jupyter": {
     "outputs_hidden": false
    }
   },
   "outputs": [
    {
     "name": "stdout",
     "output_type": "stream",
     "text": [
      "Full rank!\n"
     ]
    }
   ],
   "source": [
    "# Feature matrix is rank deficient if it is not full rank\n",
    "# Full rank means its rank = min(# of rows, # of columns)\n",
    "\n",
    "rank = np.linalg.matrix_rank(X)\n",
    "if (rank == min(X.shape[0], X.shape[1])):\n",
    "    print('Full rank!')\n",
    "else:\n",
    "    print('Rank deficient!')"
   ]
  },
  {
   "cell_type": "markdown",
   "metadata": {
    "deletable": true,
    "editable": true
   },
   "source": [
    "Using assumptions about the observations (namely independence and constant variance), we can form hypothesis tests and confidence intervals on the parameters $\\hat{\\beta}_j$. Constant variances means \"different response variables have the same variance in their errors, regardless of the values of the predictor variables.\"  These tests are used to determine the importance of keeping certain variables in the model and how confident we are that our $\\hat{\\beta}_j$ is close to the real value. It is important to note that $\\beta$ represents the population parameter while $\\hat{\\beta}$ represents a point estimate based on our *sample*. In general, you usually do not have complete info on the entire population. To have this info,  you would have to have an observation for every possible point in the feature space. This is why we perform these tests, \"The least squares estimators are point estimates of the linear regression model parameters $\\beta_j$. However, generally we also want to know how close those estimates might be to the true values of parameters.\"\n",
    "\n",
    "If you want to test whether groups of variables (e.g. a one hot encoded variable) should be included in the model, you can use an F statistic. We can also use the same method to obtain a confidence estimate for the entire parameter vector. The F statistic measures the change in residual sum-of-squares per additional parameter in the bigger model.\n",
    "\n",
    "**Example 3.2.1** \n",
    "When determining whether to drop the features \"age, lcp, gleason, and pgg45\" they calculate an F statistic. The null hypothesis is that the more complicated model is not significantly better than the less complicated one.  The F statistic corresponds to a p value of 0.17, and hence is not significant.  Thus, we do not reject the null hypothesis and we can use the simpler model.\n",
    "\n",
    "**Section 3.2.2**\n",
    "The Gauss-Markov theorem asserts that \"Least squares estimates for $\\beta$ have the smallest variance among all linear unbiased estimates\". However, restricting to unbiased estimates is not necessarily wise. This will come into play with shrinkage/regularization methods, which trade some bias for large reduction in variance.\n",
    "\n",
    "**Section 3.2.3**\n",
    "With > 1 feature, this is called *multiple linear regression*.  When feature vectors are orthogonal, they have no effect on each other, but this almost never occurs with observation data.  However, we can use this in order to create an efficient algorithm for multiple linear regression. For orthogonal inputs, $\\beta_j = \\frac{<x_j, y>}{x_j, x_j}$ making the coefficients easy to compute. To orthogonalize the input space we can use the Gram-Schmidt process, which gives us a QR decomposition where Q and R represent the orthogonal and upper triangular matrices.\n"
   ]
  },
  {
   "cell_type": "code",
   "execution_count": 10,
   "metadata": {
    "collapsed": false,
    "deletable": true,
    "editable": true,
    "jupyter": {
     "outputs_hidden": false
    }
   },
   "outputs": [
    {
     "data": {
      "image/png": "[encoded data removed]",
      "text/plain": [
       "<Figure size 432x288 with 1 Axes>"
      ]
     },
     "metadata": {
      "needs_background": "light"
     },
     "output_type": "display_data"
    }
   ],
   "source": [
    "import matplotlib.pyplot as plt\n",
    "from mpl_toolkits.mplot3d import Axes3D\n",
    "import numpy as np\n",
    "\n",
    "non_orthogonal = np.array([\n",
    "    [1, 2, 5],\n",
    "    [3, 7, 6],\n",
    "    [5, 2, 4]\n",
    "])\n",
    "\n",
    "x,y,z = ((0,0,0), (0,0,0), (0,0,0))\n",
    "u,v,w = zip(*non_orthogonal)\n",
    "\n",
    "fig = plt.figure()\n",
    "fig.clf()\n",
    "ax = fig.add_subplot(111, projection='3d')\n",
    "ax.quiver(x,y,z,u,v,w)\n",
    "ax.set_xlim([0, 8])\n",
    "ax.set_ylim([0, 8])\n",
    "ax.set_zlim([0, 8])\n",
    "plt.show()"
   ]
  },
  {
   "cell_type": "code",
   "execution_count": 11,
   "metadata": {
    "collapsed": false,
    "deletable": true,
    "editable": true,
    "jupyter": {
     "outputs_hidden": false
    }
   },
   "outputs": [
    {
     "name": "stdout",
     "output_type": "stream",
     "text": [
      "33\n",
      "43\n",
      "60\n"
     ]
    }
   ],
   "source": [
    "# Our vectors are not orthogonal because their dot products != 0\n",
    "print(np.dot(u, v))\n",
    "print(np.dot(u, w))\n",
    "print(np.dot(v, w))"
   ]
  },
  {
   "cell_type": "code",
   "execution_count": 12,
   "metadata": {
    "collapsed": false,
    "deletable": true,
    "editable": true,
    "jupyter": {
     "outputs_hidden": false
    }
   },
   "outputs": [],
   "source": [
    "Q,R = np.linalg.qr(non_orthogonal)"
   ]
  },
  {
   "cell_type": "code",
   "execution_count": 13,
   "metadata": {
    "collapsed": false,
    "deletable": true,
    "editable": true,
    "jupyter": {
     "outputs_hidden": false
    }
   },
   "outputs": [
    {
     "data": {
      "text/plain": [
       "array([[-0.16903085, -0.20777993, -0.96346047],\n",
       "       [-0.50709255, -0.81988839,  0.2657822 ],\n",
       "       [-0.84515425,  0.53348902,  0.03322277]])"
      ]
     },
     "execution_count": 13,
     "metadata": {},
     "output_type": "execute_result"
    }
   ],
   "source": [
    "# Q is orthogonal (we will verify later)\n",
    "Q"
   ]
  },
  {
   "cell_type": "code",
   "execution_count": 14,
   "metadata": {
    "collapsed": false,
    "deletable": true,
    "editable": true,
    "jupyter": {
     "outputs_hidden": false
    }
   },
   "outputs": [
    {
     "data": {
      "text/plain": [
       "array([[-5.91607978, -5.57801808, -7.26832659],\n",
       "       [ 0.        , -5.08780054, -3.82427391],\n",
       "       [ 0.        ,  0.        , -3.08971805]])"
      ]
     },
     "execution_count": 14,
     "metadata": {},
     "output_type": "execute_result"
    }
   ],
   "source": [
    "# R is upper triangular\n",
    "R"
   ]
  },
  {
   "cell_type": "code",
   "execution_count": 15,
   "metadata": {
    "collapsed": false,
    "deletable": true,
    "editable": true,
    "jupyter": {
     "outputs_hidden": false
    }
   },
   "outputs": [
    {
     "name": "stdout",
     "output_type": "stream",
     "text": [
      "-1.1102230246251565e-16\n",
      "-5.898059818321144e-17\n",
      "-3.469446951953614e-17\n"
     ]
    }
   ],
   "source": [
    "# We have nearly 0 dot product between all vectors => orthogonal\n",
    "u,v,w = zip(*Q)\n",
    "print(np.dot(u, v))\n",
    "print(np.dot(u, w))\n",
    "print(np.dot(v, w))"
   ]
  },
  {
   "cell_type": "code",
   "execution_count": 16,
   "metadata": {
    "collapsed": false,
    "deletable": true,
    "editable": true,
    "jupyter": {
     "outputs_hidden": false
    }
   },
   "outputs": [
    {
     "data": {
      "image/png": "[encoded data removed]",
      "text/plain": [
       "<Figure size 432x288 with 1 Axes>"
      ]
     },
     "metadata": {
      "needs_background": "light"
     },
     "output_type": "display_data"
    }
   ],
   "source": [
    "# Now, you can see our vectors are orthogonal\n",
    "fig.clf()\n",
    "fig = plt.figure()\n",
    "ax = fig.add_subplot(111, projection='3d')\n",
    "ax.quiver(x,y,z,u,v,w)\n",
    "ax.set_xlim([-1, 1])\n",
    "ax.set_ylim([-1, 1])\n",
    "ax.set_zlim([-1, 1])\n",
    "plt.show()"
   ]
  },
  {
   "cell_type": "markdown",
   "metadata": {
    "deletable": true,
    "editable": true
   },
   "source": [
    "**Section 3.2.4**\n",
    "Multiple outputs does not change the problem much. Our RSS is just the sum of the RSS of the individual output regressions. However, if the errors between the outputs are correlated, it might be worthwile to modify the error function in favor of the multivariate version, which takes into account the co-variance matrix of the errors. However, it will have the same solution until we make the assumption that the covariance matrix varies between observation (i.e. not constant covariance)."
   ]
  },
  {
   "cell_type": "markdown",
   "metadata": {
    "deletable": true,
    "editable": true
   },
   "source": [
    "## Section 3.3\n",
    "\n",
    "Improvements to least-squares:\n",
    "* Prediction accuracy - predictions often have low bias but large variance. Accuracy can be improved by shrinking some coefficients.\n",
    "\n",
    "* Interpretation - large amount of predictors often hard to interpret. It is often worthwile to determine the smaller subset of predictors that exhibit the strongest effects.\n",
    "\n",
    "**Section 3.3.1**\n",
    "Best-subset selection finds the subset of size k that gives the smallest RSS."
   ]
  },
  {
   "cell_type": "code",
   "execution_count": 17,
   "metadata": {
    "collapsed": false,
    "deletable": true,
    "editable": true,
    "jupyter": {
     "outputs_hidden": false
    }
   },
   "outputs": [],
   "source": [
    "# Load toy dataset from sklearn\n",
    "from sklearn.datasets import load_diabetes\n",
    "X,y = load_diabetes(return_X_y=True)"
   ]
  },
  {
   "cell_type": "code",
   "execution_count": 18,
   "metadata": {
    "collapsed": false,
    "deletable": true,
    "editable": true,
    "jupyter": {
     "outputs_hidden": false
    }
   },
   "outputs": [],
   "source": [
    "# Feature indices\n",
    "feature_indices = range(X.shape[1])"
   ]
  },
  {
   "cell_type": "code",
   "execution_count": 19,
   "metadata": {
    "collapsed": false,
    "deletable": true,
    "editable": true,
    "jupyter": {
     "outputs_hidden": false
    }
   },
   "outputs": [],
   "source": [
    "# Generate possible subsets of size k=5\n",
    "import itertools\n",
    "subsets = list(itertools.combinations(feature_indices, 5))"
   ]
  },
  {
   "cell_type": "code",
   "execution_count": 20,
   "metadata": {
    "collapsed": false,
    "deletable": true,
    "editable": true,
    "jupyter": {
     "outputs_hidden": false
    }
   },
   "outputs": [
    {
     "name": "stdout",
     "output_type": "stream",
     "text": [
      "252\n"
     ]
    }
   ],
   "source": [
    "# Have to check 252 subsets\n",
    "print(len(subsets))"
   ]
  },
  {
   "cell_type": "code",
   "execution_count": 21,
   "metadata": {
    "collapsed": false,
    "deletable": true,
    "editable": true,
    "jupyter": {
     "outputs_hidden": false
    }
   },
   "outputs": [],
   "source": [
    "# Create a 67/33 split\n",
    "from sklearn.model_selection import train_test_split\n",
    "X_train, X_test, y_train, y_test = train_test_split(X, y, test_size=0.33, random_state=10)"
   ]
  },
  {
   "cell_type": "code",
   "execution_count": 22,
   "metadata": {
    "collapsed": false,
    "deletable": true,
    "editable": true,
    "jupyter": {
     "outputs_hidden": false
    }
   },
   "outputs": [],
   "source": [
    "from sklearn.linear_model import LinearRegression\n",
    "\n",
    "subset_rss = []\n",
    "\n",
    "for subset in subsets:\n",
    "    # Filter to subset of features\n",
    "    X_train_subset = X_train[:, subset]\n",
    "    X_test_subset = X_test[:, subset]\n",
    "\n",
    "    # Create linear regression object\n",
    "    lr = LinearRegression()\n",
    "\n",
    "    # Train the model using the training sets\n",
    "    lr.fit(X_train_subset, y_train)\n",
    "\n",
    "    # Predict and compute RSS on test set\n",
    "    predictions_test = lr.predict(X_test_subset)\n",
    "    rss = np.mean((predictions_test - y_test) ** 2)\n",
    "    \n",
    "    subset_rss.append([rss, subset])"
   ]
  },
  {
   "cell_type": "code",
   "execution_count": 23,
   "metadata": {
    "collapsed": false,
    "deletable": true,
    "editable": true,
    "jupyter": {
     "outputs_hidden": false
    }
   },
   "outputs": [
    {
     "data": {
      "text/plain": [
       "[[3089.077254505267, (1, 2, 3, 6, 8)],\n",
       " [3179.440717843419, (2, 3, 6, 7, 8)],\n",
       " [3201.012237371069, (1, 2, 3, 7, 8)],\n",
       " [3202.0885123941525, (1, 2, 3, 8, 9)],\n",
       " [3208.136508836399, (2, 3, 6, 8, 9)],\n",
       " [3212.9625445111797, (0, 2, 3, 6, 8)],\n",
       " [3220.31693490342, (0, 1, 2, 3, 8)],\n",
       " [3227.4693460433427, (1, 2, 3, 5, 8)],\n",
       " [3237.8204652439217, (1, 2, 3, 4, 8)],\n",
       " [3259.5219188395827, (0, 2, 3, 8, 9)],\n",
       " [3259.992269910702, (2, 3, 4, 5, 8)],\n",
       " [3268.374565877309, (2, 3, 7, 8, 9)],\n",
       " [3270.7775628189534, (0, 2, 3, 7, 8)],\n",
       " [3282.6162533372135, (2, 3, 4, 6, 8)],\n",
       " [3288.5818014105303, (2, 3, 5, 6, 8)],\n",
       " [3292.6428272387834, (1, 2, 6, 8, 9)],\n",
       " [3299.8522835523113, (1, 2, 6, 7, 8)],\n",
       " [3306.81707060353, (2, 3, 5, 8, 9)],\n",
       " [3309.5231768447507, (0, 2, 3, 5, 8)],\n",
       " [3324.6619904720014, (2, 3, 4, 8, 9)],\n",
       " [3328.9307910554016, (0, 2, 3, 4, 8)],\n",
       " [3329.903758878956, (2, 6, 7, 8, 9)],\n",
       " [3361.3179003300297, (2, 3, 4, 7, 8)],\n",
       " [3368.8423690627023, (1, 2, 7, 8, 9)],\n",
       " [3377.2568981056475, (0, 1, 2, 6, 8)],\n",
       " [3389.825560349077, (1, 2, 4, 5, 8)],\n",
       " [3392.4806382759666, (0, 2, 6, 7, 8)],\n",
       " [3394.8343393574887, (0, 2, 6, 8, 9)],\n",
       " [3395.0702837163844, (1, 3, 6, 8, 9)],\n",
       " [3405.047039156283, (1, 2, 5, 6, 8)],\n",
       " [3409.1646011927173, (1, 2, 4, 6, 8)],\n",
       " [3413.023794622233, (0, 1, 2, 8, 9)],\n",
       " [3414.1934939868715, (1, 2, 5, 8, 9)],\n",
       " [3420.5008042001527, (1, 3, 6, 7, 8)],\n",
       " [3440.1897014079564, (1, 2, 4, 8, 9)],\n",
       " [3441.4409998191313, (2, 4, 5, 8, 9)],\n",
       " [3441.758527021021, (0, 2, 7, 8, 9)],\n",
       " [3444.020320870903, (2, 4, 5, 6, 8)],\n",
       " [3444.323805441396, (2, 3, 5, 7, 8)],\n",
       " [3444.871645650497, (2, 3, 4, 5, 6)],\n",
       " [3446.9670111977175, (0, 1, 3, 6, 8)],\n",
       " [3451.977631894097, (0, 1, 2, 7, 8)],\n",
       " [3461.503504329952, (2, 4, 6, 8, 9)],\n",
       " [3465.8870422395944, (2, 5, 6, 8, 9)],\n",
       " [3489.9775573014317, (0, 1, 2, 5, 8)],\n",
       " [3491.7844089317828, (0, 2, 4, 5, 8)],\n",
       " [3491.915799897004, (0, 2, 5, 8, 9)],\n",
       " [3493.2613237155724, (1, 2, 3, 4, 6)],\n",
       " [3495.4297633208857, (1, 2, 3, 6, 7)],\n",
       " [3502.8113540946056, (1, 2, 4, 7, 8)],\n",
       " [3513.5396044868207, (0, 2, 4, 6, 8)],\n",
       " [3513.9969347645574, (1, 3, 5, 6, 8)],\n",
       " [3514.0104694972415, (1, 2, 3, 6, 9)],\n",
       " [3515.683634407516, (0, 1, 2, 4, 8)],\n",
       " [3516.537993594128, (0, 2, 4, 8, 9)],\n",
       " [3518.617562180449, (0, 2, 5, 6, 8)],\n",
       " [3533.8346657082307, (2, 4, 7, 8, 9)],\n",
       " [3534.6183003233273, (2, 4, 5, 7, 8)],\n",
       " [3539.1826173665227, (1, 3, 7, 8, 9)],\n",
       " [3541.140743993339, (1, 3, 4, 5, 8)],\n",
       " [3543.6894962665756, (1, 3, 4, 6, 8)],\n",
       " [3561.7296166008214, (1, 2, 5, 7, 8)],\n",
       " [3561.7718374622305, (2, 5, 6, 7, 8)],\n",
       " [3571.953671282891, (0, 1, 3, 7, 8)],\n",
       " [3572.393555915719, (0, 1, 3, 8, 9)],\n",
       " [3577.0761782645422, (1, 2, 4, 5, 6)],\n",
       " [3583.9564919983277, (2, 4, 6, 7, 8)],\n",
       " [3584.8405978928995, (0, 2, 4, 7, 8)],\n",
       " [3591.060443482202, (1, 2, 3, 7, 9)],\n",
       " [3596.55823221082, (0, 1, 2, 3, 6)],\n",
       " [3608.5888970828255, (2, 5, 7, 8, 9)],\n",
       " [3610.4785491453868, (3, 6, 7, 8, 9)],\n",
       " [3612.2890938712367, (0, 3, 6, 8, 9)],\n",
       " [3614.9537067728897, (1, 2, 3, 5, 6)],\n",
       " [3616.7768652084487, (1, 3, 5, 8, 9)],\n",
       " [3637.315058782262, (0, 3, 6, 7, 8)],\n",
       " [3638.8939086799105, (2, 3, 6, 7, 9)],\n",
       " [3640.455441736779, (1, 2, 3, 4, 7)],\n",
       " [3641.850085564927, (2, 4, 5, 6, 9)],\n",
       " [3644.7691632231695, (0, 1, 2, 3, 7)],\n",
       " [3653.135491784229, (0, 1, 3, 5, 8)],\n",
       " [3658.7997075501553, (2, 3, 4, 6, 9)],\n",
       " [3659.65442544518, (0, 2, 5, 7, 8)],\n",
       " [3675.398673842768, (0, 3, 7, 8, 9)],\n",
       " [3677.1570754235527, (0, 2, 3, 6, 7)],\n",
       " [3681.7117228476714, (0, 2, 3, 6, 9)],\n",
       " [3683.473887810203, (0, 2, 3, 4, 6)],\n",
       " [3685.739094090682, (1, 3, 4, 5, 6)],\n",
       " [3696.155652183017, (1, 2, 3, 5, 7)],\n",
       " [3713.899514365785, (0, 2, 4, 5, 6)],\n",
       " [3714.9779453799447, (0, 2, 3, 7, 9)],\n",
       " [3718.651728830095, (1, 3, 4, 8, 9)],\n",
       " [3720.429334513805, (1, 3, 4, 7, 8)],\n",
       " [3722.9714518296996, (0, 3, 5, 8, 9)],\n",
       " [3742.201771340592, (3, 4, 5, 6, 8)],\n",
       " [3744.010756869122, (3, 4, 5, 8, 9)],\n",
       " [3750.5105494920367, (3, 5, 6, 8, 9)],\n",
       " [3752.701535417999, (1, 3, 5, 7, 8)],\n",
       " [3754.5739714178403, (2, 3, 4, 5, 7)],\n",
       " [3759.524210377542, (0, 3, 4, 5, 8)]]"
      ]
     },
     "execution_count": 23,
     "metadata": {},
     "output_type": "execute_result"
    }
   ],
   "source": [
    "# RSS and subset indices ranked ascending\n",
    "sorted_rss = sorted(subset_rss)\n",
    "sorted_rss[0:100]"
   ]
  },
  {
   "cell_type": "markdown",
   "metadata": {
    "deletable": true,
    "editable": true
   },
   "source": [
    "**Section 3.3.2**\n",
    "\n",
    "Rather than search through all possible subsets (which becomes computationally infeasible), we can seek an appropriate path through them.\n",
    "\n",
    "*Forward-stepwise selection* starts with the intercept, then sequentially adds into the model the predictor that most improves the fit.  This can be efficient if we have done the Gram-Schmidt orthogonalization process to exploit the QR decomposition.  This is a greedy algorithm (meaning it uses local optimum in hopes of finding global). Compared to best-subset, this is a more constrained search so it will have lower variance and perhaps more bias."
   ]
  },
  {
   "cell_type": "markdown",
   "metadata": {
    "deletable": true,
    "editable": true
   },
   "source": [
    "\n",
    "*Backward-stepwise selection* starts with the full model and sequentially deletes the predictor that has the least impact on the fit. i.e. the one with the smallest Z-score.  Can only be used for N > p (number of samples > number of features).\n",
    "\n",
    "Some software packages use a hybrid approach between the two, considering the best forward and backward moves at each step and select the \"best\" of the two.\n",
    "\n",
    "For one-hot encoded variables, smart stepwise packages will add or drop whole groups at a time, taking proper account of their degrees-of-freedom."
   ]
  },
  {
   "cell_type": "markdown",
   "metadata": {
    "deletable": true,
    "editable": true
   },
   "source": [
    "*Forward-stagewise regression* - even more constrained than forward-stepwise. Start with only an intercept and all $\\hat{\\beta}$ initialized to 0. Then, identify the variable most correlated with the current residual.  Compute the univariate coefficient of the residual and the chocsen variable, then add it to the coefficient of the variable.  Repeat until no variables have any correlation with the residuals.  Inefficient algorithm that can pay dividends in high dimensional cases."
   ]
  },
  {
   "cell_type": "markdown",
   "metadata": {
    "deletable": true,
    "editable": true
   },
   "source": [
    "**sklearn and statsmodels packages do not have stepwise/stagewise algorithms out of the box**\n",
    "\n",
    "For future: write these algorithms manually here."
   ]
  },
  {
   "cell_type": "markdown",
   "metadata": {
    "deletable": true,
    "editable": true
   },
   "source": [
    "\n",
    "**Section 3.3.4**\n",
    "\n",
    "Cross-validation works by dividing the training data randomly into K equal parts (this can vary). The learning method is fit on (K-1)/K of the data and the prediction error is computed on the remaining 1/K.  This is then repeated for each \"fold\" of the data.  Afterwards, the K prediction error estimates are averaged."
   ]
  },
  {
   "cell_type": "markdown",
   "metadata": {
    "deletable": true,
    "editable": true
   },
   "source": [
    "## Section 3.4"
   ]
  },
  {
   "cell_type": "markdown",
   "metadata": {
    "deletable": true,
    "editable": true
   },
   "source": [
    "Ridge/Lasso regression minimizes a penalized RSS.  The penalty is a function of the parameters $\\beta$, and generally \"shrinks\" them so that no particular parameter is too large.  This controls the effect that any particular dimension can have on the final prediction."
   ]
  },
  {
   "cell_type": "markdown",
   "metadata": {
    "deletable": true,
    "editable": true
   },
   "source": [
    "Ridge = penalize the loss function by $\\lambda\\sum_{i=1}^{p}\\beta_{i}^2$.\n",
    "\n",
    "* $\\lambda$ is known as the complexity parameter and can be tuned to control the amount of desired penalization.\n",
    "\n",
    "\n",
    "* In standard least squares regression, correlated variables can each get a large coeficient with opposing signs (one large positive one large negative). Regularization methods help alleviate this problem.\n",
    "\n",
    "\n",
    "* We normally standardize (i.e. scale and center) the input variables so variables are on even footing for contributing to the loss penalty.\n",
    "\n",
    "\n",
    "* We leave the intercept out of the penalty term, so that the procedure does not depend on the origin chosen for Y.\n",
    "\n",
    "\n",
    "* The intercept is estimated as the average of $Y$.  We then run the ridge regression on centered/normalized inputs.\n",
    "\n",
    "\n",
    "* Original motivation behind Ridge - it adds a positive constant to the diagonal of $X^TX$ before inversion, making it non-singular even if it was not previously of full rank.\n",
    "\n",
    "\n",
    "* With orthonormal inputs, the Ridge estimates are just scaled down values of the least squares estimates.\n",
    "\n",
    "\n",
    "* Ridge regression can also be derived from a Bayesian framework.\n",
    "\n",
    "\n",
    "* SVD - singular value decomposition. Very useful factorization of a matrix into $X = UDV^T$, where $U$ and $V$ are $N x p$ and $p$ x $p$ orthogonal matrices with the columns of $U$ spanning the column space of $X$, and the columns of $V$ spanning the row space. $D$ is a $p$ x $p$ diagonal matrix, with positive and decreasing values values on the diagonal $d_j$ (from upper left to lower right).  If one or more values of $D$ is 0, then $X$ is singular, meaning it cannot be inverted.\n",
    "\n",
    "\n",
    "* With an SVD decomposition, Ridge solutions are $\\sum_{j=1}^p u_j \\frac{d_{j}^2}{d_{j}^2 + \\lambda}u_{j}^Ty$.  Thus, it computes the coordinates of $y$ with respect to the orthonormal basis $U$, then shrinks them. Note that greater amount of shrinkage happens with smaller $d_{j}^2$. These have a correlation with the principal components of $X$. $z_1$ = $u_1d_1$ is the first principal component of $X$.  So Ridge regression shrinks the directions with least variance the most, and maintains the coefficients of those with variance (the top principal components).\n",
    "\n",
    "\n",
    "* Assumption is that the response will tend to vary most in the directions of high variance of the inputs.\n",
    "\n",
    "\n",
    "* The sum of the shrinkage factor $\\sum_{j=1}^p \\frac{d_{j}^2}{d_{j}^2 + \\lambda}$, is called the **effective degrees of freedom** of the ridge regression.\n",
    "\n",
    "\n",
    "* Penalty is often referred to as the L2 penalty in reflection of the L2 vector norm of the coefficients."
   ]
  },
  {
   "cell_type": "code",
   "execution_count": 24,
   "metadata": {
    "collapsed": false,
    "deletable": true,
    "editable": true,
    "jupyter": {
     "outputs_hidden": false
    }
   },
   "outputs": [],
   "source": [
    "import pandas\n",
    "\n",
    "# Load data, this set uses ? for nulls but we can pass that as an option to pandas\n",
    "data = pandas.read_csv('./data/Chapter3/crime_data.csv', na_values='?')"
   ]
  },
  {
   "cell_type": "code",
   "execution_count": 25,
   "metadata": {
    "collapsed": false,
    "deletable": true,
    "editable": true,
    "jupyter": {
     "outputs_hidden": false
    }
   },
   "outputs": [],
   "source": [
    "# Define target and what features should be treated as categorical\n",
    "target_column = 'ViolentCrimesPerPop'\n",
    "categorical_features = ['state', 'county', 'community', 'communityname']"
   ]
  },
  {
   "cell_type": "code",
   "execution_count": 26,
   "metadata": {
    "collapsed": false,
    "deletable": true,
    "editable": true,
    "jupyter": {
     "outputs_hidden": false
    }
   },
   "outputs": [],
   "source": [
    "# Dummy encode categoricals\n",
    "encoded_data = pandas.get_dummies(data, prefix=categorical_features, columns=categorical_features)"
   ]
  },
  {
   "cell_type": "code",
   "execution_count": 27,
   "metadata": {
    "deletable": true,
    "editable": true
   },
   "outputs": [],
   "source": [
    "# Get feature columns from encoded data\n",
    "feature_columns = [col for col in encoded_data if col not in ['fold', target_column]]"
   ]
  },
  {
   "cell_type": "code",
   "execution_count": 28,
   "metadata": {
    "collapsed": false,
    "deletable": true,
    "editable": true,
    "jupyter": {
     "outputs_hidden": false
    }
   },
   "outputs": [],
   "source": [
    "# Let's tune the hyper-parameter alpha, which corresponds to the aggressiveness of regularization\n",
    "from sklearn.linear_model import Ridge\n",
    "from sklearn.metrics import mean_squared_error\n",
    "from sklearn.impute import SimpleImputer\n",
    "import numpy as np\n",
    "\n",
    "# We will compute test error for each alpha and each of the 10 folds and 100 alphas\n",
    "alphas = np.linspace(0.01, 1, 100)\n",
    "test_errors = np.zeros((10, 100))\n",
    "test_variances = np.zeros((10, 100))\n",
    "    \n",
    "for i in range(1,11):\n",
    "    # train = all but fold i. test = fold i\n",
    "    X_train = encoded_data.loc[encoded_data.fold != i, feature_columns].values\n",
    "    y_train = encoded_data.loc[encoded_data.fold != i, target_column].values\n",
    "    X_test = encoded_data.loc[encoded_data.fold == i, feature_columns].values\n",
    "    y_test = encoded_data.loc[encoded_data.fold == i, target_column].values\n",
    "\n",
    "    # Impute on train and transform on train/test\n",
    "    imp = SimpleImputer(strategy='mean')\n",
    "    X_train_imputed = imp.fit_transform(X_train)\n",
    "    X_test_imputed = imp.transform(X_test)\n",
    "\n",
    "    # For each alpha, fit the model and compute the error and prediction variance\n",
    "    for j in range(len(alphas)):\n",
    "        ridge = Ridge(alpha=alphas[j], fit_intercept=True, normalize=False, copy_X=True, max_iter=None, \n",
    "                      tol=0.001, solver='auto', random_state=10)\n",
    "\n",
    "        ridge.fit(X_train_imputed, y_train)\n",
    "        predictions = ridge.predict(X_test_imputed)\n",
    "        test_errors[i-1, j] = mean_squared_error(y_test, predictions)\n",
    "        test_variances[i-1, j] = predictions.var()"
   ]
  },
  {
   "cell_type": "code",
   "execution_count": 29,
   "metadata": {
    "collapsed": false,
    "deletable": true,
    "editable": true,
    "jupyter": {
     "outputs_hidden": false
    }
   },
   "outputs": [],
   "source": [
    "# Take the mean error and variance along the folds\n",
    "alpha_errors = test_errors.mean(axis=0)\n",
    "alpha_variances = test_variances.mean(axis=0)"
   ]
  },
  {
   "cell_type": "code",
   "execution_count": 30,
   "metadata": {
    "collapsed": false,
    "deletable": true,
    "editable": true,
    "jupyter": {
     "outputs_hidden": false
    }
   },
   "outputs": [
    {
     "data": {
      "text/plain": [
       "<matplotlib.legend.Legend at 0x7fe7c74c76d8>"
      ]
     },
     "execution_count": 30,
     "metadata": {},
     "output_type": "execute_result"
    },
    {
     "data": {
      "image/png": "[encoded data removed]",
      "text/plain": [
       "<Figure size 432x288 with 1 Axes>"
      ]
     },
     "metadata": {
      "needs_background": "light"
     },
     "output_type": "display_data"
    }
   ],
   "source": [
    "import matplotlib.pyplot as plt\n",
    "%matplotlib inline\n",
    "plt.clf()\n",
    "plt.plot(np.linspace(0,1,100), alpha_errors)\n",
    "plt.plot(np.linspace(0,1,100), alpha_variances)\n",
    "plt.title('Ridge Error')\n",
    "plt.xlabel('alpha')\n",
    "plt.ylabel('SSE')\n",
    "plt.legend(['errors', 'variance'])"
   ]
  },
  {
   "cell_type": "code",
   "execution_count": 31,
   "metadata": {
    "collapsed": false,
    "deletable": true,
    "editable": true,
    "jupyter": {
     "outputs_hidden": false
    }
   },
   "outputs": [],
   "source": [
    "# Show effect of Ridge coefficient on one fold by comparing to Least Squares\n",
    "X_train = encoded_data.loc[encoded_data.fold != 10, feature_columns].values\n",
    "y_train = encoded_data.loc[encoded_data.fold != 10, target_column].values\n",
    "X_test = encoded_data.loc[encoded_data.fold == 10, feature_columns].values\n",
    "y_test = encoded_data.loc[encoded_data.fold == 10, target_column].values\n",
    "\n",
    "imp = SimpleImputer(strategy='mean')\n",
    "X_train_imputed = imp.fit_transform(X_train)\n",
    "X_test_imputed = imp.transform(X_test)\n",
    "\n",
    "# Compute full ridge with alpha = 1\n",
    "ridge = Ridge(alpha=1, fit_intercept=True, normalize=False, copy_X=True, max_iter=None, \n",
    "              tol=0.001, solver='auto', random_state=10)\n",
    "ridge.fit(X_train_imputed, y_train)\n",
    "ridge_predictions = ridge.predict(X_test_imputed)\n",
    "alpha1_coeff=ridge.coef_\n",
    "\n",
    "# Compute least squares (equivalent to Ridge with alpha = 0)\n",
    "ridge0 = LinearRegression(fit_intercept=True, normalize=False, copy_X=True)\n",
    "ridge0.fit(X_train_imputed, y_train)\n",
    "ls_coeff = ridge0.coef_"
   ]
  },
  {
   "cell_type": "code",
   "execution_count": 32,
   "metadata": {
    "collapsed": false,
    "deletable": true,
    "editable": true,
    "jupyter": {
     "outputs_hidden": false
    }
   },
   "outputs": [
    {
     "data": {
      "text/html": [
       "<div>\n",
       "<style scoped>\n",
       "    .dataframe tbody tr th:only-of-type {\n",
       "        vertical-align: middle;\n",
       "    }\n",
       "\n",
       "    .dataframe tbody tr th {\n",
       "        vertical-align: top;\n",
       "    }\n",
       "\n",
       "    .dataframe thead th {\n",
       "        text-align: right;\n",
       "    }\n",
       "</style>\n",
       "<table border=\"1\" class=\"dataframe\">\n",
       "  <thead>\n",
       "    <tr style=\"text-align: right;\">\n",
       "      <th></th>\n",
       "      <th>Ridge</th>\n",
       "      <th>Least Squares</th>\n",
       "    </tr>\n",
       "  </thead>\n",
       "  <tbody>\n",
       "    <tr>\n",
       "      <th>0</th>\n",
       "      <td>-0.043645</td>\n",
       "      <td>-1.054303</td>\n",
       "    </tr>\n",
       "    <tr>\n",
       "      <th>1</th>\n",
       "      <td>0.070931</td>\n",
       "      <td>-0.494987</td>\n",
       "    </tr>\n",
       "    <tr>\n",
       "      <th>2</th>\n",
       "      <td>0.007213</td>\n",
       "      <td>0.230165</td>\n",
       "    </tr>\n",
       "    <tr>\n",
       "      <th>3</th>\n",
       "      <td>-0.082213</td>\n",
       "      <td>0.052361</td>\n",
       "    </tr>\n",
       "    <tr>\n",
       "      <th>4</th>\n",
       "      <td>-0.029705</td>\n",
       "      <td>-0.306334</td>\n",
       "    </tr>\n",
       "    <tr>\n",
       "      <th>...</th>\n",
       "      <td>...</td>\n",
       "      <td>...</td>\n",
       "    </tr>\n",
       "    <tr>\n",
       "      <th>2858</th>\n",
       "      <td>0.102409</td>\n",
       "      <td>0.078977</td>\n",
       "    </tr>\n",
       "    <tr>\n",
       "      <th>2859</th>\n",
       "      <td>-0.065052</td>\n",
       "      <td>-0.109405</td>\n",
       "    </tr>\n",
       "    <tr>\n",
       "      <th>2860</th>\n",
       "      <td>-0.028612</td>\n",
       "      <td>-0.136661</td>\n",
       "    </tr>\n",
       "    <tr>\n",
       "      <th>2861</th>\n",
       "      <td>-0.011659</td>\n",
       "      <td>0.170971</td>\n",
       "    </tr>\n",
       "    <tr>\n",
       "      <th>2862</th>\n",
       "      <td>-0.006246</td>\n",
       "      <td>0.066087</td>\n",
       "    </tr>\n",
       "  </tbody>\n",
       "</table>\n",
       "<p>2863 rows × 2 columns</p>\n",
       "</div>"
      ],
      "text/plain": [
       "         Ridge  Least Squares\n",
       "0    -0.043645      -1.054303\n",
       "1     0.070931      -0.494987\n",
       "2     0.007213       0.230165\n",
       "3    -0.082213       0.052361\n",
       "4    -0.029705      -0.306334\n",
       "...        ...            ...\n",
       "2858  0.102409       0.078977\n",
       "2859 -0.065052      -0.109405\n",
       "2860 -0.028612      -0.136661\n",
       "2861 -0.011659       0.170971\n",
       "2862 -0.006246       0.066087\n",
       "\n",
       "[2863 rows x 2 columns]"
      ]
     },
     "execution_count": 32,
     "metadata": {},
     "output_type": "execute_result"
    }
   ],
   "source": [
    "pandas.DataFrame(list(zip(alpha1_coeff, ls_coeff)), columns = ['Ridge', 'Least Squares'])"
   ]
  },
  {
   "cell_type": "markdown",
   "metadata": {
    "deletable": true,
    "editable": true
   },
   "source": [
    "Regularization improves the conditioning of the problem and reduces the variance of the estimates."
   ]
  },
  {
   "cell_type": "markdown",
   "metadata": {
    "deletable": true,
    "editable": true
   },
   "source": [
    "Lasso = penalize the loss function by $\\lambda\\sum_{i=1}^{p}|\\beta_{i}|$.\n",
    "\n",
    "* No closed form solution for Lasso. Computing the solution is a quadratic programming problem. \n",
    "\n",
    "\n",
    "* Some of the coefficients will be exactly 0, unlike Ridge.  This can make it be used as a continuous subset selection problem, and also for *feature reduction*.\n",
    "\n",
    "\n",
    "* Penalty is often referred to as the L1 penalty in reflection of the L1 vector norm of the coefficients."
   ]
  },
  {
   "cell_type": "code",
   "execution_count": 33,
   "metadata": {
    "collapsed": false,
    "deletable": true,
    "editable": true,
    "jupyter": {
     "outputs_hidden": false
    }
   },
   "outputs": [],
   "source": [
    "# Let's tune the hyper-parameter alpha, which corresponds to the aggressiveness of regularization\n",
    "from sklearn.linear_model import Lasso\n",
    "from sklearn.metrics import mean_squared_error\n",
    "from sklearn.impute import SimpleImputer\n",
    "import numpy as np\n",
    "\n",
    "# We will compute test error for each alpha and each of the 10 folds and 100 alphas\n",
    "alphas = np.linspace(0.01, 1, 100)\n",
    "test_errors = np.zeros((10, 100))\n",
    "test_variances = np.zeros((10, 100))\n",
    "    \n",
    "for i in range(1,11):\n",
    "    # train = all but fold i. test = fold i\n",
    "    X_train = encoded_data.loc[encoded_data.fold != i, feature_columns].values\n",
    "    y_train = encoded_data.loc[encoded_data.fold != i, target_column].values\n",
    "    X_test = encoded_data.loc[encoded_data.fold == i, feature_columns].values\n",
    "    y_test = encoded_data.loc[encoded_data.fold == i, target_column].values\n",
    "\n",
    "    # Impute on train and transform on train/test\n",
    "    imp = SimpleImputer(strategy='mean')\n",
    "    X_train_imputed = imp.fit_transform(X_train)\n",
    "    X_test_imputed = imp.transform(X_test)\n",
    "\n",
    "    # For each alpha, fit the model and compute the error and predictino variance\n",
    "    for j in range(len(alphas)):\n",
    "        \n",
    "        lasso = Lasso(alpha=alphas[j], fit_intercept=True, normalize=False, precompute=False, copy_X=True, max_iter=1000, \n",
    "                      tol=0.0001, warm_start=False, \n",
    "                      positive=False, random_state=10, selection='cyclic')\n",
    "\n",
    "        lasso.fit(X_train_imputed, y_train)\n",
    "        predictions = lasso.predict(X_test_imputed)\n",
    "        test_errors[i-1, j] = mean_squared_error(y_test, predictions)\n",
    "        test_variances[i-1, j] = predictions.var()"
   ]
  },
  {
   "cell_type": "code",
   "execution_count": 34,
   "metadata": {
    "deletable": true,
    "editable": true
   },
   "outputs": [],
   "source": [
    "# Take the mean error and variance along the folds\n",
    "alpha_errors = test_errors.mean(axis=0)\n",
    "alpha_variances = test_variances.mean(axis=0)"
   ]
  },
  {
   "cell_type": "code",
   "execution_count": 35,
   "metadata": {
    "collapsed": false,
    "deletable": true,
    "editable": true,
    "jupyter": {
     "outputs_hidden": false
    }
   },
   "outputs": [
    {
     "data": {
      "text/plain": [
       "<matplotlib.legend.Legend at 0x7fe7c9b92860>"
      ]
     },
     "execution_count": 35,
     "metadata": {},
     "output_type": "execute_result"
    },
    {
     "data": {
      "image/png": "[encoded data removed]",
      "text/plain": [
       "<Figure size 432x288 with 1 Axes>"
      ]
     },
     "metadata": {
      "needs_background": "light"
     },
     "output_type": "display_data"
    }
   ],
   "source": [
    "plt.clf()\n",
    "plt.plot(np.linspace(0,1,100), alpha_errors)\n",
    "plt.plot(np.linspace(0,1,100), alpha_variances)\n",
    "plt.title('Lasso Error')\n",
    "plt.xlabel('alpha')\n",
    "plt.ylabel('SSE')\n",
    "plt.legend(['errors', 'variance'])"
   ]
  },
  {
   "cell_type": "code",
   "execution_count": 36,
   "metadata": {
    "deletable": true,
    "editable": true
   },
   "outputs": [],
   "source": [
    "l = Lasso(alpha=0.001, fit_intercept=True, normalize=False, precompute=False, copy_X=True, max_iter=1000, tol=0.0001, \n",
    "          warm_start=False, positive=False, random_state=None, selection='cyclic')"
   ]
  },
  {
   "cell_type": "code",
   "execution_count": 37,
   "metadata": {
    "collapsed": false,
    "deletable": true,
    "editable": true,
    "jupyter": {
     "outputs_hidden": false
    }
   },
   "outputs": [
    {
     "data": {
      "text/plain": [
       "array([ 0.,  0., -0., ..., -0., -0., -0.])"
      ]
     },
     "execution_count": 37,
     "metadata": {},
     "output_type": "execute_result"
    }
   ],
   "source": [
    "l.fit(X_train_imputed, y_train)\n",
    "l.coef_"
   ]
  },
  {
   "cell_type": "code",
   "execution_count": 38,
   "metadata": {
    "collapsed": false,
    "deletable": true,
    "editable": true,
    "jupyter": {
     "outputs_hidden": false
    }
   },
   "outputs": [],
   "source": [
    "lasso_predictions = l.predict(X_test_imputed)"
   ]
  },
  {
   "cell_type": "code",
   "execution_count": 39,
   "metadata": {
    "collapsed": false,
    "deletable": true,
    "editable": true,
    "jupyter": {
     "outputs_hidden": false
    }
   },
   "outputs": [
    {
     "name": "stdout",
     "output_type": "stream",
     "text": [
      "Number of non-zero coefficients: 27\n",
      "Total number of features: 2863\n"
     ]
    }
   ],
   "source": [
    "# Number of non-zero coefficents\n",
    "print('Number of non-zero coefficients: {0}'.format(len(l.coef_[l.coef_ != 0])))\n",
    "print('Total number of features: {0}'.format(len(l.coef_)))"
   ]
  },
  {
   "cell_type": "code",
   "execution_count": 40,
   "metadata": {
    "collapsed": false,
    "deletable": true,
    "editable": true,
    "jupyter": {
     "outputs_hidden": false
    }
   },
   "outputs": [
    {
     "data": {
      "text/html": [
       "<div>\n",
       "<style scoped>\n",
       "    .dataframe tbody tr th:only-of-type {\n",
       "        vertical-align: middle;\n",
       "    }\n",
       "\n",
       "    .dataframe tbody tr th {\n",
       "        vertical-align: top;\n",
       "    }\n",
       "\n",
       "    .dataframe thead th {\n",
       "        text-align: right;\n",
       "    }\n",
       "</style>\n",
       "<table border=\"1\" class=\"dataframe\">\n",
       "  <thead>\n",
       "    <tr style=\"text-align: right;\">\n",
       "      <th></th>\n",
       "      <th>feature</th>\n",
       "      <th>coefficient</th>\n",
       "    </tr>\n",
       "  </thead>\n",
       "  <tbody>\n",
       "    <tr>\n",
       "      <th>0</th>\n",
       "      <td>agePct16t24</td>\n",
       "      <td>-0.035346</td>\n",
       "    </tr>\n",
       "    <tr>\n",
       "      <th>1</th>\n",
       "      <td>pctUrban</td>\n",
       "      <td>0.033075</td>\n",
       "    </tr>\n",
       "    <tr>\n",
       "      <th>2</th>\n",
       "      <td>pctWRetire</td>\n",
       "      <td>-0.060745</td>\n",
       "    </tr>\n",
       "    <tr>\n",
       "      <th>3</th>\n",
       "      <td>PersPerFam</td>\n",
       "      <td>0.074503</td>\n",
       "    </tr>\n",
       "    <tr>\n",
       "      <th>4</th>\n",
       "      <td>PctKids2Par</td>\n",
       "      <td>-0.667551</td>\n",
       "    </tr>\n",
       "    <tr>\n",
       "      <th>5</th>\n",
       "      <td>PctYoungKids2Par</td>\n",
       "      <td>-0.010601</td>\n",
       "    </tr>\n",
       "    <tr>\n",
       "      <th>6</th>\n",
       "      <td>PctPersDenseHous</td>\n",
       "      <td>0.075529</td>\n",
       "    </tr>\n",
       "    <tr>\n",
       "      <th>7</th>\n",
       "      <td>MedNumBR</td>\n",
       "      <td>0.006253</td>\n",
       "    </tr>\n",
       "    <tr>\n",
       "      <th>8</th>\n",
       "      <td>HousVacant</td>\n",
       "      <td>0.133451</td>\n",
       "    </tr>\n",
       "    <tr>\n",
       "      <th>9</th>\n",
       "      <td>PctHousOccup</td>\n",
       "      <td>-0.004092</td>\n",
       "    </tr>\n",
       "    <tr>\n",
       "      <th>10</th>\n",
       "      <td>PctVacantBoarded</td>\n",
       "      <td>0.105395</td>\n",
       "    </tr>\n",
       "    <tr>\n",
       "      <th>11</th>\n",
       "      <td>MedYrHousBuilt</td>\n",
       "      <td>0.000986</td>\n",
       "    </tr>\n",
       "    <tr>\n",
       "      <th>12</th>\n",
       "      <td>PctHousNoPhone</td>\n",
       "      <td>0.004673</td>\n",
       "    </tr>\n",
       "    <tr>\n",
       "      <th>13</th>\n",
       "      <td>MedRent</td>\n",
       "      <td>0.006583</td>\n",
       "    </tr>\n",
       "    <tr>\n",
       "      <th>14</th>\n",
       "      <td>NumStreet</td>\n",
       "      <td>0.052022</td>\n",
       "    </tr>\n",
       "    <tr>\n",
       "      <th>15</th>\n",
       "      <td>PctUsePubTrans</td>\n",
       "      <td>0.031758</td>\n",
       "    </tr>\n",
       "    <tr>\n",
       "      <th>16</th>\n",
       "      <td>LemasGangUnitDeploy</td>\n",
       "      <td>0.020641</td>\n",
       "    </tr>\n",
       "    <tr>\n",
       "      <th>17</th>\n",
       "      <td>LemasPctOfficDrugUn</td>\n",
       "      <td>0.017540</td>\n",
       "    </tr>\n",
       "    <tr>\n",
       "      <th>18</th>\n",
       "      <td>state_1</td>\n",
       "      <td>0.071467</td>\n",
       "    </tr>\n",
       "    <tr>\n",
       "      <th>19</th>\n",
       "      <td>state_6</td>\n",
       "      <td>0.068869</td>\n",
       "    </tr>\n",
       "    <tr>\n",
       "      <th>20</th>\n",
       "      <td>state_12</td>\n",
       "      <td>0.123940</td>\n",
       "    </tr>\n",
       "    <tr>\n",
       "      <th>21</th>\n",
       "      <td>state_25</td>\n",
       "      <td>0.045465</td>\n",
       "    </tr>\n",
       "    <tr>\n",
       "      <th>22</th>\n",
       "      <td>state_36</td>\n",
       "      <td>-0.006650</td>\n",
       "    </tr>\n",
       "    <tr>\n",
       "      <th>23</th>\n",
       "      <td>state_37</td>\n",
       "      <td>0.017034</td>\n",
       "    </tr>\n",
       "    <tr>\n",
       "      <th>24</th>\n",
       "      <td>state_45</td>\n",
       "      <td>0.103404</td>\n",
       "    </tr>\n",
       "    <tr>\n",
       "      <th>25</th>\n",
       "      <td>state_47</td>\n",
       "      <td>0.017094</td>\n",
       "    </tr>\n",
       "    <tr>\n",
       "      <th>26</th>\n",
       "      <td>state_51</td>\n",
       "      <td>-0.012138</td>\n",
       "    </tr>\n",
       "  </tbody>\n",
       "</table>\n",
       "</div>"
      ],
      "text/plain": [
       "                feature  coefficient\n",
       "0           agePct16t24    -0.035346\n",
       "1              pctUrban     0.033075\n",
       "2            pctWRetire    -0.060745\n",
       "3            PersPerFam     0.074503\n",
       "4           PctKids2Par    -0.667551\n",
       "5      PctYoungKids2Par    -0.010601\n",
       "6      PctPersDenseHous     0.075529\n",
       "7              MedNumBR     0.006253\n",
       "8            HousVacant     0.133451\n",
       "9          PctHousOccup    -0.004092\n",
       "10     PctVacantBoarded     0.105395\n",
       "11       MedYrHousBuilt     0.000986\n",
       "12       PctHousNoPhone     0.004673\n",
       "13              MedRent     0.006583\n",
       "14            NumStreet     0.052022\n",
       "15       PctUsePubTrans     0.031758\n",
       "16  LemasGangUnitDeploy     0.020641\n",
       "17  LemasPctOfficDrugUn     0.017540\n",
       "18              state_1     0.071467\n",
       "19              state_6     0.068869\n",
       "20             state_12     0.123940\n",
       "21             state_25     0.045465\n",
       "22             state_36    -0.006650\n",
       "23             state_37     0.017034\n",
       "24             state_45     0.103404\n",
       "25             state_47     0.017094\n",
       "26             state_51    -0.012138"
      ]
     },
     "execution_count": 40,
     "metadata": {},
     "output_type": "execute_result"
    }
   ],
   "source": [
    "pandas.DataFrame(list(zip(np.array(feature_columns)[np.array(l.coef_ != 0)], l.coef_[l.coef_ != 0])), \n",
    "                 columns = ['feature', 'coefficient'])"
   ]
  },
  {
   "cell_type": "markdown",
   "metadata": {
    "deletable": true,
    "editable": true
   },
   "source": [
    "Least Angle Regression (LAR)\n",
    "1. Standardize the predictors to have mean zero and unit norm. Start with the residual $r=y-\\bar{y}, \\beta_j = 0$.\n",
    "2. Find the predictor $x_j$ most correlated with $r$.\n",
    "3. Move $\\beta_j$ from 0 towards its least square coefficient until some other competitor $x_k$ has as much correlation with the current residual as does $x_j$.\n",
    "4. Move $\\beta_j$ and $\\beta_k$ in the direction defined by their join least squares coefficient of the current residual until some other competitor has as much correlation with the current residual.\n",
    "5. Continue until all $p$ predictors have been entered. After $min(N-1, p)$ steps, we arrive at the full least squares solution.\n",
    "\n",
    "\n",
    "* The name \"least angle\" arises from the geometrical interpretation of the process. The new fit direction makes the smallest (and equal) angle with each of the predictors in the active set.\n",
    "\n",
    "\n",
    "* LAR can be modified to include a lasso element -- if a non-zero coefficient hits zero, drop its variable from the active set of variables and recompute the current joint least squares direction.\n",
    "\n",
    "\n",
    "* Effective degrees of freedom for traditional linear model = # of linearly independent feature vectors.  For adaptively fitted models (and can be applied to any general prediction), the definition is:\n",
    "$df(\\hat{y}) \\frac{1}{\\sigma^2}\\sum_{i=1}^{N} Cov(\\hat{y_i}, y_i)$."
   ]
  },
  {
   "cell_type": "code",
   "execution_count": 41,
   "metadata": {
    "deletable": true,
    "editable": true
   },
   "outputs": [],
   "source": [
    "from sklearn.linear_model import Lars"
   ]
  },
  {
   "cell_type": "code",
   "execution_count": 42,
   "metadata": {
    "collapsed": false,
    "deletable": true,
    "editable": true,
    "jupyter": {
     "outputs_hidden": false
    }
   },
   "outputs": [],
   "source": [
    "lars = Lars(fit_intercept=True, verbose=False, normalize=True, precompute='auto', n_nonzero_coefs=30, \n",
    "            eps=0.01, copy_X=True, fit_path=True)"
   ]
  },
  {
   "cell_type": "code",
   "execution_count": 43,
   "metadata": {
    "collapsed": false,
    "deletable": true,
    "editable": true,
    "jupyter": {
     "outputs_hidden": false
    }
   },
   "outputs": [
    {
     "data": {
      "text/plain": [
       "array([0., 0., 0., ..., 0., 0., 0.])"
      ]
     },
     "execution_count": 43,
     "metadata": {},
     "output_type": "execute_result"
    }
   ],
   "source": [
    "lars.fit(X_train_imputed, y_train)\n",
    "lars.coef_"
   ]
  },
  {
   "cell_type": "code",
   "execution_count": 44,
   "metadata": {
    "deletable": true,
    "editable": true
   },
   "outputs": [],
   "source": [
    "lars_predictions = lars.predict(X_test_imputed)"
   ]
  },
  {
   "cell_type": "code",
   "execution_count": 45,
   "metadata": {
    "collapsed": false,
    "deletable": true,
    "editable": true,
    "jupyter": {
     "outputs_hidden": false
    }
   },
   "outputs": [
    {
     "name": "stdout",
     "output_type": "stream",
     "text": [
      "Number of non-zero coefficients: 29\n",
      "Total number of features: 2863\n"
     ]
    }
   ],
   "source": [
    "# Number of non-zero coefficents\n",
    "print('Number of non-zero coefficients: {0}'.format(len(lars.coef_[lars.coef_ != 0])))\n",
    "print('Total number of features: {0}'.format(len(lars.coef_)))"
   ]
  },
  {
   "cell_type": "code",
   "execution_count": 46,
   "metadata": {
    "collapsed": false,
    "deletable": true,
    "editable": true,
    "jupyter": {
     "outputs_hidden": false
    }
   },
   "outputs": [
    {
     "data": {
      "text/html": [
       "<div>\n",
       "<style scoped>\n",
       "    .dataframe tbody tr th:only-of-type {\n",
       "        vertical-align: middle;\n",
       "    }\n",
       "\n",
       "    .dataframe tbody tr th {\n",
       "        vertical-align: top;\n",
       "    }\n",
       "\n",
       "    .dataframe thead th {\n",
       "        text-align: right;\n",
       "    }\n",
       "</style>\n",
       "<table border=\"1\" class=\"dataframe\">\n",
       "  <thead>\n",
       "    <tr style=\"text-align: right;\">\n",
       "      <th></th>\n",
       "      <th>feature</th>\n",
       "      <th>coefficient</th>\n",
       "    </tr>\n",
       "  </thead>\n",
       "  <tbody>\n",
       "    <tr>\n",
       "      <th>0</th>\n",
       "      <td>pctUrban</td>\n",
       "      <td>2.020467e-02</td>\n",
       "    </tr>\n",
       "    <tr>\n",
       "      <th>1</th>\n",
       "      <td>PersPerFam</td>\n",
       "      <td>1.689546e-01</td>\n",
       "    </tr>\n",
       "    <tr>\n",
       "      <th>2</th>\n",
       "      <td>PctKids2Par</td>\n",
       "      <td>-7.821069e-01</td>\n",
       "    </tr>\n",
       "    <tr>\n",
       "      <th>3</th>\n",
       "      <td>PctLargHouseFam</td>\n",
       "      <td>-1.408916e+00</td>\n",
       "    </tr>\n",
       "    <tr>\n",
       "      <th>4</th>\n",
       "      <td>PctLargHouseOccup</td>\n",
       "      <td>1.173122e+00</td>\n",
       "    </tr>\n",
       "    <tr>\n",
       "      <th>5</th>\n",
       "      <td>PctPersDenseHous</td>\n",
       "      <td>2.419105e-01</td>\n",
       "    </tr>\n",
       "    <tr>\n",
       "      <th>6</th>\n",
       "      <td>HousVacant</td>\n",
       "      <td>1.595435e-01</td>\n",
       "    </tr>\n",
       "    <tr>\n",
       "      <th>7</th>\n",
       "      <td>PctVacantBoarded</td>\n",
       "      <td>7.542666e-02</td>\n",
       "    </tr>\n",
       "    <tr>\n",
       "      <th>8</th>\n",
       "      <td>NumInShelters</td>\n",
       "      <td>1.472550e-02</td>\n",
       "    </tr>\n",
       "    <tr>\n",
       "      <th>9</th>\n",
       "      <td>NumStreet</td>\n",
       "      <td>1.444477e-01</td>\n",
       "    </tr>\n",
       "    <tr>\n",
       "      <th>10</th>\n",
       "      <td>PctUsePubTrans</td>\n",
       "      <td>5.607289e-02</td>\n",
       "    </tr>\n",
       "    <tr>\n",
       "      <th>11</th>\n",
       "      <td>LemasPctOfficDrugUn</td>\n",
       "      <td>6.809759e-03</td>\n",
       "    </tr>\n",
       "    <tr>\n",
       "      <th>12</th>\n",
       "      <td>state_1</td>\n",
       "      <td>1.983401e-02</td>\n",
       "    </tr>\n",
       "    <tr>\n",
       "      <th>13</th>\n",
       "      <td>state_6</td>\n",
       "      <td>2.834283e-02</td>\n",
       "    </tr>\n",
       "    <tr>\n",
       "      <th>14</th>\n",
       "      <td>state_12</td>\n",
       "      <td>7.290371e-02</td>\n",
       "    </tr>\n",
       "    <tr>\n",
       "      <th>15</th>\n",
       "      <td>state_23</td>\n",
       "      <td>-6.517418e-03</td>\n",
       "    </tr>\n",
       "    <tr>\n",
       "      <th>16</th>\n",
       "      <td>state_25</td>\n",
       "      <td>8.610580e-03</td>\n",
       "    </tr>\n",
       "    <tr>\n",
       "      <th>17</th>\n",
       "      <td>state_45</td>\n",
       "      <td>6.186020e-02</td>\n",
       "    </tr>\n",
       "    <tr>\n",
       "      <th>18</th>\n",
       "      <td>state_51</td>\n",
       "      <td>-7.528042e-04</td>\n",
       "    </tr>\n",
       "    <tr>\n",
       "      <th>19</th>\n",
       "      <td>community_29333.0</td>\n",
       "      <td>8.411968e-02</td>\n",
       "    </tr>\n",
       "    <tr>\n",
       "      <th>20</th>\n",
       "      <td>community_43554.0</td>\n",
       "      <td>7.708802e-03</td>\n",
       "    </tr>\n",
       "    <tr>\n",
       "      <th>21</th>\n",
       "      <td>community_47138.0</td>\n",
       "      <td>1.465341e-01</td>\n",
       "    </tr>\n",
       "    <tr>\n",
       "      <th>22</th>\n",
       "      <td>communityname_GlensFallscity</td>\n",
       "      <td>1.465081e-13</td>\n",
       "    </tr>\n",
       "    <tr>\n",
       "      <th>23</th>\n",
       "      <td>communityname_Hawthornecity</td>\n",
       "      <td>3.086627e-02</td>\n",
       "    </tr>\n",
       "    <tr>\n",
       "      <th>24</th>\n",
       "      <td>communityname_LaCanadaFlintridgecity</td>\n",
       "      <td>3.087937e-01</td>\n",
       "    </tr>\n",
       "    <tr>\n",
       "      <th>25</th>\n",
       "      <td>communityname_Opelikacity</td>\n",
       "      <td>1.643791e-02</td>\n",
       "    </tr>\n",
       "    <tr>\n",
       "      <th>26</th>\n",
       "      <td>communityname_PlantCitycity</td>\n",
       "      <td>4.617263e-02</td>\n",
       "    </tr>\n",
       "    <tr>\n",
       "      <th>27</th>\n",
       "      <td>communityname_Vernoncity</td>\n",
       "      <td>2.869026e-01</td>\n",
       "    </tr>\n",
       "    <tr>\n",
       "      <th>28</th>\n",
       "      <td>communityname_WestHollywoodcity</td>\n",
       "      <td>2.029893e-01</td>\n",
       "    </tr>\n",
       "  </tbody>\n",
       "</table>\n",
       "</div>"
      ],
      "text/plain": [
       "                                 feature   coefficient\n",
       "0                               pctUrban  2.020467e-02\n",
       "1                             PersPerFam  1.689546e-01\n",
       "2                            PctKids2Par -7.821069e-01\n",
       "3                        PctLargHouseFam -1.408916e+00\n",
       "4                      PctLargHouseOccup  1.173122e+00\n",
       "5                       PctPersDenseHous  2.419105e-01\n",
       "6                             HousVacant  1.595435e-01\n",
       "7                       PctVacantBoarded  7.542666e-02\n",
       "8                          NumInShelters  1.472550e-02\n",
       "9                              NumStreet  1.444477e-01\n",
       "10                        PctUsePubTrans  5.607289e-02\n",
       "11                   LemasPctOfficDrugUn  6.809759e-03\n",
       "12                               state_1  1.983401e-02\n",
       "13                               state_6  2.834283e-02\n",
       "14                              state_12  7.290371e-02\n",
       "15                              state_23 -6.517418e-03\n",
       "16                              state_25  8.610580e-03\n",
       "17                              state_45  6.186020e-02\n",
       "18                              state_51 -7.528042e-04\n",
       "19                     community_29333.0  8.411968e-02\n",
       "20                     community_43554.0  7.708802e-03\n",
       "21                     community_47138.0  1.465341e-01\n",
       "22          communityname_GlensFallscity  1.465081e-13\n",
       "23           communityname_Hawthornecity  3.086627e-02\n",
       "24  communityname_LaCanadaFlintridgecity  3.087937e-01\n",
       "25             communityname_Opelikacity  1.643791e-02\n",
       "26           communityname_PlantCitycity  4.617263e-02\n",
       "27              communityname_Vernoncity  2.869026e-01\n",
       "28       communityname_WestHollywoodcity  2.029893e-01"
      ]
     },
     "execution_count": 46,
     "metadata": {},
     "output_type": "execute_result"
    }
   ],
   "source": [
    "pandas.DataFrame(list(zip(np.array(feature_columns)[np.array(lars.coef_ != 0)], lars.coef_[lars.coef_ != 0])), \n",
    "                 columns = ['feature', 'coefficient'])"
   ]
  },
  {
   "cell_type": "code",
   "execution_count": 47,
   "metadata": {
    "collapsed": false,
    "deletable": true,
    "editable": true,
    "jupyter": {
     "outputs_hidden": false
    }
   },
   "outputs": [
    {
     "name": "stdout",
     "output_type": "stream",
     "text": [
      "Ridge MSE: 0.016334366171554954\n",
      "Lasso MSE: 0.015712497273211105\n",
      "LARS MSE: 0.01603354580343012\n"
     ]
    }
   ],
   "source": [
    "# Error comparison on test for fold = 1\n",
    "print('Ridge MSE: {0}'.format(mean_squared_error(ridge_predictions, y_test)))\n",
    "print('Lasso MSE: {0}'.format(mean_squared_error(lasso_predictions, y_test)))\n",
    "print('LARS MSE: {0}'.format(mean_squared_error(lars_predictions, y_test)))"
   ]
  },
  {
   "cell_type": "markdown",
   "metadata": {
    "deletable": true,
    "editable": true
   },
   "source": [
    "## Section 3.5 - Derived Input Directions"
   ]
  },
  {
   "cell_type": "markdown",
   "metadata": {
    "deletable": true,
    "editable": true
   },
   "source": [
    "**Principal Components**\n",
    "\n",
    "* Using SVD, orthogonalize the input vectors and choose the top M with the most variance. What this amounts to is determining a basis for the input space (the eigenvectors) and using the associated singular values (which rank the corresponding directional variance in the basis) to select the derived input columns that best explain the variance.\n",
    "\n",
    "* Then, we regress on the principal component vectors. Since these are orthogonal its just a sum of the univariate regressions.\n",
    "\n",
    "* Principal components depend on the scaling of the inputs, so we standardize them first."
   ]
  },
  {
   "cell_type": "code",
   "execution_count": 48,
   "metadata": {
    "collapsed": false,
    "deletable": true,
    "editable": true,
    "jupyter": {
     "outputs_hidden": false
    }
   },
   "outputs": [
    {
     "data": {
      "image/png": "[encoded data removed]",
      "text/plain": [
       "<Figure size 432x288 with 1 Axes>"
      ]
     },
     "metadata": {
      "needs_background": "light"
     },
     "output_type": "display_data"
    },
    {
     "data": {
      "text/plain": [
       "Text(0.5, 1.0, '2-D Projection')"
      ]
     },
     "execution_count": 48,
     "metadata": {},
     "output_type": "execute_result"
    },
    {
     "data": {
      "image/png": "[encoded data removed]",
      "text/plain": [
       "<Figure size 432x288 with 1 Axes>"
      ]
     },
     "metadata": {
      "needs_background": "light"
     },
     "output_type": "display_data"
    }
   ],
   "source": [
    "# Generate a 3D figure\n",
    "from mpl_toolkits.mplot3d import axes3d\n",
    "import matplotlib.pyplot as plt\n",
    "import numpy as np\n",
    "%matplotlib inline\n",
    "\n",
    "\n",
    "fig = plt.figure()\n",
    "fig.clear()\n",
    "ax = fig.add_subplot(111, projection='3d')\n",
    "\n",
    "# Grab some test data.\n",
    "X, Y, Z = axes3d.get_test_data(0.05)\n",
    "\n",
    "# Plot a basic wireframe.\n",
    "ax.plot_wireframe(X, Y, Z, rstride=10, cstride=10)\n",
    "plt.title(\"3D Feature Surface\")\n",
    "plt.show()\n",
    "\n",
    "# convert the sample points in the surface to a typical design matrix\n",
    "zipped = np.dstack((X,Y,Z))\n",
    "design_matrix = zipped.reshape(-1,3)\n",
    "\n",
    "from sklearn.decomposition import PCA\n",
    "pca = PCA(n_components=2, copy=True, whiten=False, svd_solver='auto', tol=0.0, iterated_power='auto', \n",
    "          random_state=10)\n",
    "\n",
    "components = pca.fit_transform(design_matrix)\n",
    "plt.scatter(components[:, 0], components[:, 1], color='green')\n",
    "plt.title(\"2-D Projection\")"
   ]
  },
  {
   "cell_type": "markdown",
   "metadata": {
    "deletable": true,
    "editable": true
   },
   "source": [
    "**Partial Least Squares**\n",
    "\n",
    "* Also not scale-invariant.\n",
    "* Uses both Y and X in its construction.\n",
    "\n",
    "*Note for understanding algorithm:*\n",
    "* When two vectors are unit length, their dot product represents \"...what amount of one vector goes in the direction of another.\" For example, if you move a box at an angle to a horizontal vector, what amount if displaced in the horizontal direction for movement on the angled vector?  This is why orthogonal vectors have a dot product of 0.\n",
    "\n",
    "* Since the $x_j$ are standardized, the first directions $\\hat{\\phi_{1j}}$ are the univariate regression coefficients. This is not the case for subsequent directions.\n",
    "\n",
    "*Algorithm*\n",
    "1. Standardized each $x_j$ to have mean zero and variance one.\n",
    "\n",
    "2. For m = $1, 2, \\dots, M$ where $M < p$:\n",
    "\n",
    "    a) $z_m = \\sum_{j=1}^{p} \\hat{\\phi_{mj}}x_{j}^{(m-1)}$, where $\\hat{\\phi_{mj}} = <x_{j}^{(m-1)}, y>$. This is the PLS input direction.\n",
    "    \n",
    "    b) $\\hat{\\theta_{(m)}} = <z_m, y>/<z_m, z_m>$.  This is the univariate regression coefficient of y with $z_m$.\n",
    "    \n",
    "    c) $\\hat{y^{(m)}} = \\hat{y^{(m-1)}} + \\hat{\\theta_{(m)}}z_m$.  Add to previous approximation this univarate directional improvement.\n",
    "    \n",
    "    d) Orthogonalize $x_{j}^{(m-1)}$ with respect to $z_m$: $x_{j}^{(m)} = x_{j}^{(m-1)} - [<z_m, x_{j}^{(m-1)}>/<z_m, z_m>] z_m, \\ j = 1, 2, \\dots p$.\n",
    "       \n",
    "3. Output the set of fitted values $\\hat{y}^{(m)}$. $m = 1, \\dots, M$\n",
    "\n",
    "\n",
    "* PLS seeks directions that have high variance and high correlation with the response.\n",
    "\n",
    "\n",
    "* If input matrix is orthogonal, PLS finds the least squares estimates after m=1 steps. Subsequent steps have no effect.\n",
    "\n",
    "\n",
    "* Sequence of PLS coefficients represent the conjugate gradient sequence for computing the least squares solution. \"In mathematics, the conjugate gradient method is an algorithm for the numerical solution of particular systems of linear equations, namely those whose matrix is symmetric and positive-definite.\""
   ]
  },
  {
   "cell_type": "code",
   "execution_count": 50,
   "metadata": {
    "collapsed": false,
    "deletable": true,
    "editable": true,
    "jupyter": {
     "outputs_hidden": false
    }
   },
   "outputs": [
    {
     "name": "stdout",
     "output_type": "stream",
     "text": [
      "PLS MSE: 0.01930939036807998\n"
     ]
    }
   ],
   "source": [
    "# Use the same data prepared above. Fold = 1 of the crime data\n",
    "from sklearn.cross_decomposition import PLSRegression\n",
    "pls = PLSRegression(n_components=2, scale=True, max_iter=500, tol=1e-06, copy=True)\n",
    "\n",
    "pls.fit(X_train_imputed, y_train)\n",
    "pls_predictions = pls.predict(X_test_imputed)\n",
    "print('PLS MSE: {0}'.format(mean_squared_error(pls_predictions, y_test)))"
   ]
  },
  {
   "cell_type": "markdown",
   "metadata": {
    "deletable": true,
    "editable": true
   },
   "source": [
    "**Comparison of methods**\n",
    "* Ridge regression shrinks all directions, but shrinks low-variance directions more.\n",
    "* Principal components regression leaves M high-variance directions alone and discards the rest.\n",
    "* PLS tends to shrink low-variance directions but actually inflate some of the higher variances directions, making it a little unstable.\n",
    "* For minimizing prediction error, Ridge regression is generally preferable to variable subset selection, PCR, and PLS. \n",
    "* Ridge shrinks smoothly, rather than in discrete steps like PLS and PCR. Lasso falls somewhere in between the two."
   ]
  },
  {
   "cell_type": "markdown",
   "metadata": {
    "deletable": true,
    "editable": true
   },
   "source": [
    "**Multiple Outcome Shrinkage**\n",
    "\n",
    "* Techniques can be applied to each of the outcomes individually or all at the same time.\n",
    "\n",
    "* Canonical correlation analysis (CCA) is the multiple output analog to PCA.  Finds uncorrelated input vectors and a corresponding sequence of uncorrelated linear combinations of the responses in order to maximize the squared correlation of the responses and inputs. This approach is formalized in *reduced ranked regression*."
   ]
  },
  {
   "cell_type": "markdown",
   "metadata": {
    "deletable": true,
    "editable": true
   },
   "source": [
    "**Incremental Forward Stagewise Regression**\n",
    "\n",
    "*  Works just like LAR but updates to the $\\beta_j$ are done by adding $\\epsilon*sign[<x_k, r>]$ for a small step size $\\epsilon$ at each iteration.\n",
    "\n",
    "\n",
    "1. Start with the residual $r$ equal to to $y$ and $\\beta_j = 0$.  Standardized inputs to be mean 0 and unit norm.\n",
    "\n",
    "2. Find the predictor $x_j$ most correlated with $r$.\n",
    "\n",
    "3. Update $\\beta_j \\leftarrow \\beta_j + \\delta_j$, where $\\delta_j = \\epsilon*sign[<x_k, r>]$ and $\\epsilon > 0$ is a small step size, and set $r \\leftarrow r - \\delta_jx_j$.\n",
    "\n",
    "4. Repeat steps 2 and 3 many times, until the residuals are uncorrelated with all the predictors.\n",
    "\n",
    "\n",
    "* If we let $\\epsilon$ approach 0, we call the limiting procedure *infintesimal forward stagewise regression*.  This is also sometimes referred to as L2boost because of its connections to boosting.\n",
    "\n",
    "**Other algorithms**\n",
    "\n",
    "* Piecewise-Linear Path Algorithms\n",
    "    * Generalization of Lasso like algorithms but with different loss and and penalization functions.\n",
    "\n",
    "\n",
    "* The Dantzig Selector\n",
    "    * Resembles the Lasso but replaces the squared error loss with the maximum absolute value of its gradient.\n",
    "\n",
    "\n",
    "* The Grouped Lasso\n",
    "    * Allows you to regularize variables in groups. E.g. a group of one-hot encoded categoricals.\n",
    "\n",
    "**Misc. Lasso Notes**\n",
    "*  Estimates for $\\beta$ are not consistent, meaning as sample size grows they do not necesarilly converge to the true values.\n",
    "\n",
    "* One approach to reducing bias - run the Lasso to identify non-zero coefficients and then fit an non-regularized linear model to the non-zero predictors.\n",
    "\n",
    "* If instead, we apply Lasso a second time this is known as the *relaxed Lasso*.\n",
    "\n",
    "* *Smoothly clipped absolute deviation penalty* - replace the penalty function in Lasso so that large coefficients are shrunken less severely.\n",
    "\n",
    "* *Adaptive lasso* - Uses a weight penalty function where the weight for each coefficient is proportional to the least squares estimate.\n",
    "\n",
    "**Pathwise Coordinate Optimization**\n",
    "* Alternative algorithm to the LARS algorithm for computing Lasso solution is to use simple coordinate descent. This can be faster for a large set of data.  It also returns the soultion of a grid of the hyper-parameter $\\lambda$. Can also be used for elastic, grouped lasso, and other models for which the penalty is a sum of the individual $\\beta_j$.\n",
    "\n",
    "\n",
    "**Computation Considerations**\n",
    "* Whether to use a Cholesky or QR decomposition for computing the least squares estimates depends on the relationship of N and p.  Depending on their releative side, there are tradeoffs of speed/stability/etc."
   ]
  }
 ],
 "metadata": {
  "kernelspec": {
   "display_name": "Python 3",
   "language": "python",
   "name": "python3"
  },
  "language_info": {
   "codemirror_mode": {
    "name": "ipython",
    "version": 3
   },
   "file_extension": ".py",
   "mimetype": "text/x-python",
   "name": "python",
   "nbconvert_exporter": "python",
   "pygments_lexer": "ipython3",
   "version": "3.6.9"
  }
 },
 "nbformat": 4,
 "nbformat_minor": 4
}
