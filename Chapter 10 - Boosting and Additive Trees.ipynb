{
 "cells": [
  {
   "cell_type": "markdown",
   "metadata": {},
   "source": [
    "# Chapter 10 - Boosting and Additive Trees"
   ]
  },
  {
   "cell_type": "markdown",
   "metadata": {},
   "source": [
    "### 10.1 - Boosting Methods"
   ]
  },
  {
   "cell_type": "markdown",
   "metadata": {},
   "source": [
    "* The motivation for boosting -- a procedure that combines the outputs of many “weak” classifiers to produce a powerful “committee.\n",
    "* A weak classifier is one whose error rate is only slightly better than random guessing. The purpose of boosting is to sequentially apply the weak classification algorithm to repeatedly modified versions of the data, thereby producing a sequence of weak classifiers. The predictions from all of the weak classifiers are then combined through a weighted majority vote, producing a final prediction.\n",
    "* The data modifications at each boosting step consist of applying weights to each of the training observation (initially everything is weighted equally).\n",
    "*  At step m, those observations that were misclassified by the classifier induced at the previous step have their weights increased, whereas the weights are decreased for those that were classified correctly. Thus as iterations proceed, observations that are difficult to classify correctly receive ever-increasing influence, forcing it to concentrate on those training observations that are missed by previous ones in the sequence."
   ]
  },
  {
   "cell_type": "markdown",
   "metadata": {},
   "source": [
    "### 10.2 - Boosting Fits and Additive Model"
   ]
  },
  {
   "cell_type": "markdown",
   "metadata": {},
   "source": [
    "* Boosting is a way of fitting an additive expansion in a set of elementary “basis” functions. Here the basis functions are the individual classifiers."
   ]
  },
  {
   "cell_type": "markdown",
   "metadata": {},
   "source": [
    "### 10.3 - Forward Stagewise Additive Modeling"
   ]
  },
  {
   "cell_type": "markdown",
   "metadata": {},
   "source": [
    "* Forward stagewise modeling approximates the solution by sequentially adding new basis functions to the expansion, without adjusting the parameters and coefficients of those that have already been added. "
   ]
  },
  {
   "cell_type": "markdown",
   "metadata": {},
   "source": [
    "### 10.4 - Exponential Loss and Adaboost"
   ]
  },
  {
   "cell_type": "markdown",
   "metadata": {},
   "source": [
    "* Adaboost is equivalent to forward stagewise additive modeling with loss function $exp(-y f(x))$.\n",
    "* For Adaboost, the basis functions are the individual classifiers."
   ]
  },
  {
   "cell_type": "markdown",
   "metadata": {},
   "source": [
    "### 10.5 - Why Exponential Loss?"
   ]
  },
  {
   "cell_type": "markdown",
   "metadata": {},
   "source": [
    "* Its equivalence to forward stagewise additive modeling based on exponential loss was only discovered five years after its inception. \n",
    "* The principal attraction of exponential loss in the context of additive modeling is computational; it leads to the simple modular reweighting AdaBoost algorithm. \n",
    "* The additive expansion produced by AdaBoost is estimating one-half the log-odds of P (Y = 1|x). "
   ]
  },
  {
   "cell_type": "markdown",
   "metadata": {},
   "source": [
    "### 10.6 - Loss Functions and Robustness"
   ]
  },
  {
   "cell_type": "markdown",
   "metadata": {},
   "source": [
    "* Robustness = resistance to outliers.\n",
    "* **margin** is $yf(x)$ and is similar to a residual when the response for classification is 1/-1. \n",
    "* If margin < 0 we have misclassified, if > 0 we have correctly classified. The goal of the classification algorithm is to produce positive margins as frequently as possible.\n",
    "* Any loss criterion used for classification should penalize negative margins more heavily than positive ones since positive margin observations are already correctly classified.\n",
    "* Misclassification loss gives unit penalty for negative margin values, and no penalty at all for positive ones. \n",
    "* Both the exponential and deviance loss can be viewed as monotone continuous approximations (i.e. differentiable) to misclassification loss. \n",
    "* Exponential criterion concentrates much more influence on observations with large negative margins. \n",
    "* Binomial deviance concentrates relatively less influence on such observations, more evenly spreading the influence among all of the data.\n",
    "* Squared-error loss is not a good surrogate for misclassification error. \n",
    "* Squared-error loss places much more emphasis on observations with large absolute residuals during the fitting process. It is thus far less robust, and its performance severely degrades for long-tailed error distributions and especially for grossly mismeasured y-values (“outliers”). \n",
    "* Other more robust criteria, such as absolute loss, perform much better in these situations (however this can be difficult to optimize mathematically).\n",
    "* Other loss functions (such as Huber) have been created that are much more outlier resistant."
   ]
  },
  {
   "cell_type": "markdown",
   "metadata": {},
   "source": [
    "### 10.7 - “Off-the-Shelf” Procedures for Data Mining"
   ]
  },
  {
   "cell_type": "markdown",
   "metadata": {},
   "source": [
    "* Data is usually messy: the inputs tend to be mixtures of quantitative, binary, and categorical variables, the latter often with many levels. There are generally many missing values, complete observations being rare. Distributions of numeric predictor and response variables are often long-tailed and highly skewed.\n",
    "* Requirements of speed, interpretability, and the messy nature of the data sharply limit the usefulness of most learning procedures as off-the-shelf methods for data mining. \n",
    "* An “off-the-shelf” method is one that can be directly applied to the data without requiring a great deal of time - consuming data preprocessing or careful tuning of the learning procedure.\n",
    "* Of all the well-known learning methods, decision trees come closest to meeting the requirements for serving as an off-the-shelf procedure for data mining.\n",
    "* Trees have one aspect that prevents them from being the ideal tool for predictive learning, namely inaccuracy. They seldom provide predictive accuracy comparable to the best that can be achieved with the data at hand. \n",
    "* Boosting decision trees improves their accuracy, often dramatically. "
   ]
  },
  {
   "cell_type": "markdown",
   "metadata": {},
   "source": [
    "### 10.8 - Example:  Spam Data"
   ]
  },
  {
   "cell_type": "markdown",
   "metadata": {},
   "source": [
    "* Boosting outperforms (w.r.t. test error) additive logistic regression, CART, and MARS on the spam example."
   ]
  },
  {
   "cell_type": "markdown",
   "metadata": {},
   "source": [
    "### 10.9 - Boosting Trees"
   ]
  },
  {
   "cell_type": "markdown",
   "metadata": {},
   "source": [
    "* A formal mathematical definition of trees is given in this section.\n",
    "* Finding the optimal tree is a difficult optimization problem. So we approximate by doing the following:\n",
    "    * The terminal prediction in each region is just the average of observations.\n",
    "    * Determining the region partitioning is done by a top-down greedy algorithm (the tree partitioning algorithm discussed in previous sections)\n",
    "* Boosted tree model is a sum of these trees. Closed form optimization of this is also nearly impossible. For a few special cases the formula simplifies:\n",
    "    * For squared-errored loss each tree predicts the residuals of the cumulative prediction from the prior step.\n",
    "    * For exponential loss we get the Adabost algorithm.\n",
    "    * Using loss criteria such as the absolute error or the Huber loss in place of squared-error loss for regression, and the deviance in place of exponential loss for classification, will serve to robustify boosting trees. Unfortunately, unlike their non-robust counterparts, these robust criteria do not give rise to simple fast boosting algorithms."
   ]
  },
  {
   "cell_type": "markdown",
   "metadata": {},
   "source": [
    "### 10.10 - Numerical Optimization via Gradient Boosting"
   ]
  },
  {
   "cell_type": "markdown",
   "metadata": {},
   "source": [
    "* Fortunately, numerical approximation algorithms can be used to fit boosted trees for any differentiable loss function.\n",
    "* Steepest descent uses a step that is a scalar multiple of the negative gradient of the loss function (goes \"downhill\"). This is a greedy strategy that can find local minima instead of global minima.\n",
    "* Forward stagewise boosting is a greedy strategy. This is the common strategy of fitting to the residual of the current model at each step."
   ]
  },
  {
   "cell_type": "markdown",
   "metadata": {},
   "source": [
    "### 10.11 - Right Size Tree For Boosting"
   ]
  },
  {
   "cell_type": "markdown",
   "metadata": {},
   "source": [
    "* Historically assumed each tree was a primitive building block. This resulted in early trees that grow much too deep.\n",
    "* Simple strategy to avoid this is to restrict the algorithm so trees are always the same size (possibly allowing the final tree to be bigger).\n",
    "* Given depth $J$, the interaction level of tree-based approximations is limited by the tree size $J$. Namely, no interaction effects of level greater that $J − 1$ are possible.\n",
    "* $J$ should reflect the level of dominant interactions (which is unknown).\n",
    "* It is unlikely that $J > 10$ will be required. Experience so far indicates that $4 ≤ J ≤ 8$ works well in the context of boosting, with results being fairly insensitive to particular choices in this range. One can fine-tune the value for $J$ by trying several different values and choosing the one that produces the lowest risk on a validation sample. However, this seldom provides significant improvement over using $J ≃ 6$.\n",
    "* Also must estimate $M$, the number of boosting rounds. With early stopping, we can monitor the validation error to make sure we stop when overfit begins."
   ]
  },
  {
   "cell_type": "markdown",
   "metadata": {},
   "source": [
    "### 10.12 - Regularization"
   ]
  },
  {
   "cell_type": "markdown",
   "metadata": {},
   "source": [
    "* We can control the learning rate of the trees as well by weighting its contribution to the sum.\n",
    "* In fact, the best strategy appears to be to set $ν$ (learning rate) to be very small ($ν$ < 0.1) and then choose M by early stopping. \n",
    "* Another tuning parameter is to subsample the training data at each step. This makes the computation faster and can create a more robust model."
   ]
  },
  {
   "cell_type": "code",
   "execution_count": 1,
   "metadata": {},
   "outputs": [
    {
     "name": "stdout",
     "output_type": "stream",
     "text": [
      "[1]\tvalid_0's l2: 69.8949\n",
      "Training until validation scores don't improve for 5 rounds\n",
      "[2]\tvalid_0's l2: 64.9347\n",
      "[3]\tvalid_0's l2: 60.7169\n",
      "[4]\tvalid_0's l2: 57.0476\n",
      "[5]\tvalid_0's l2: 53.761\n",
      "[6]\tvalid_0's l2: 50.6526\n",
      "[7]\tvalid_0's l2: 47.8761\n",
      "[8]\tvalid_0's l2: 44.8271\n",
      "[9]\tvalid_0's l2: 42.5575\n",
      "[10]\tvalid_0's l2: 40.5298\n",
      "[11]\tvalid_0's l2: 38.6983\n",
      "[12]\tvalid_0's l2: 36.8774\n",
      "[13]\tvalid_0's l2: 35.2458\n",
      "[14]\tvalid_0's l2: 33.6119\n",
      "[15]\tvalid_0's l2: 32.1138\n",
      "[16]\tvalid_0's l2: 31.0234\n",
      "[17]\tvalid_0's l2: 29.9245\n",
      "[18]\tvalid_0's l2: 28.9536\n",
      "[19]\tvalid_0's l2: 28.1513\n",
      "[20]\tvalid_0's l2: 27.0796\n",
      "[21]\tvalid_0's l2: 26.316\n",
      "[22]\tvalid_0's l2: 25.4827\n",
      "[23]\tvalid_0's l2: 24.7447\n",
      "[24]\tvalid_0's l2: 23.9091\n",
      "[25]\tvalid_0's l2: 23.3001\n",
      "[26]\tvalid_0's l2: 22.736\n",
      "[27]\tvalid_0's l2: 22.0815\n",
      "[28]\tvalid_0's l2: 21.6397\n",
      "[29]\tvalid_0's l2: 21.292\n",
      "[30]\tvalid_0's l2: 20.9276\n",
      "[31]\tvalid_0's l2: 20.4857\n",
      "[32]\tvalid_0's l2: 19.9552\n",
      "[33]\tvalid_0's l2: 19.6219\n",
      "[34]\tvalid_0's l2: 19.1699\n",
      "[35]\tvalid_0's l2: 18.8628\n",
      "[36]\tvalid_0's l2: 18.7085\n",
      "[37]\tvalid_0's l2: 18.5719\n",
      "[38]\tvalid_0's l2: 18.4573\n",
      "[39]\tvalid_0's l2: 18.2066\n",
      "[40]\tvalid_0's l2: 18.0552\n",
      "[41]\tvalid_0's l2: 17.9016\n",
      "[42]\tvalid_0's l2: 17.7682\n",
      "[43]\tvalid_0's l2: 17.6993\n",
      "[44]\tvalid_0's l2: 17.55\n",
      "[45]\tvalid_0's l2: 17.3972\n",
      "[46]\tvalid_0's l2: 17.1756\n",
      "[47]\tvalid_0's l2: 16.9255\n",
      "[48]\tvalid_0's l2: 16.7897\n",
      "[49]\tvalid_0's l2: 16.5704\n",
      "[50]\tvalid_0's l2: 16.4731\n",
      "[51]\tvalid_0's l2: 16.3125\n",
      "[52]\tvalid_0's l2: 16.2017\n",
      "[53]\tvalid_0's l2: 16.1093\n",
      "[54]\tvalid_0's l2: 15.9776\n",
      "[55]\tvalid_0's l2: 15.8031\n",
      "[56]\tvalid_0's l2: 15.5928\n",
      "[57]\tvalid_0's l2: 15.335\n",
      "[58]\tvalid_0's l2: 15.1548\n",
      "[59]\tvalid_0's l2: 14.9157\n",
      "[60]\tvalid_0's l2: 14.7506\n",
      "[61]\tvalid_0's l2: 14.6566\n",
      "[62]\tvalid_0's l2: 14.6178\n",
      "[63]\tvalid_0's l2: 14.5868\n",
      "[64]\tvalid_0's l2: 14.5384\n",
      "[65]\tvalid_0's l2: 14.5114\n",
      "[66]\tvalid_0's l2: 14.389\n",
      "[67]\tvalid_0's l2: 14.2605\n",
      "[68]\tvalid_0's l2: 14.1633\n",
      "[69]\tvalid_0's l2: 14.1216\n",
      "[70]\tvalid_0's l2: 14.0314\n",
      "[71]\tvalid_0's l2: 13.9122\n",
      "[72]\tvalid_0's l2: 13.8252\n",
      "[73]\tvalid_0's l2: 13.6901\n",
      "[74]\tvalid_0's l2: 13.5844\n",
      "[75]\tvalid_0's l2: 13.5007\n",
      "[76]\tvalid_0's l2: 13.4621\n",
      "[77]\tvalid_0's l2: 13.4479\n",
      "[78]\tvalid_0's l2: 13.33\n",
      "[79]\tvalid_0's l2: 13.3508\n",
      "[80]\tvalid_0's l2: 13.2822\n",
      "[81]\tvalid_0's l2: 13.2249\n",
      "[82]\tvalid_0's l2: 13.1114\n",
      "[83]\tvalid_0's l2: 13.033\n",
      "[84]\tvalid_0's l2: 12.9369\n",
      "[85]\tvalid_0's l2: 12.9171\n",
      "[86]\tvalid_0's l2: 12.8986\n",
      "[87]\tvalid_0's l2: 12.8748\n",
      "[88]\tvalid_0's l2: 12.8874\n",
      "[89]\tvalid_0's l2: 12.8773\n",
      "[90]\tvalid_0's l2: 12.8635\n",
      "[91]\tvalid_0's l2: 12.8227\n",
      "[92]\tvalid_0's l2: 12.7913\n",
      "[93]\tvalid_0's l2: 12.7205\n",
      "[94]\tvalid_0's l2: 12.636\n",
      "[95]\tvalid_0's l2: 12.5666\n",
      "[96]\tvalid_0's l2: 12.4854\n",
      "[97]\tvalid_0's l2: 12.4425\n",
      "[98]\tvalid_0's l2: 12.4131\n",
      "[99]\tvalid_0's l2: 12.3829\n",
      "[100]\tvalid_0's l2: 12.3467\n",
      "[101]\tvalid_0's l2: 12.3721\n",
      "[102]\tvalid_0's l2: 12.388\n",
      "[103]\tvalid_0's l2: 12.3603\n",
      "[104]\tvalid_0's l2: 12.384\n",
      "[105]\tvalid_0's l2: 12.3903\n",
      "Early stopping, best iteration is:\n",
      "[100]\tvalid_0's l2: 12.3467\n",
      "The rmse of prediction is: 3.5137822432117334\n"
     ]
    }
   ],
   "source": [
    "from sklearn.datasets import load_boston\n",
    "from sklearn.model_selection import train_test_split\n",
    "import lightgbm as lgb\n",
    "from sklearn.metrics import mean_squared_error\n",
    "\n",
    "# load our toy data set\n",
    "data, target = load_boston(True)\n",
    "X_train, X_test, y_train, y_test = train_test_split(data, target)\n",
    "\n",
    "# LightGBM requires Dataset objects to be constructed\n",
    "lgb_train = lgb.Dataset(X_train, y_train)\n",
    "lgb_eval = lgb.Dataset(X_test, y_test)\n",
    "\n",
    "# Hyper-parameters and settings\n",
    "params = {\n",
    "    'task': 'train',\n",
    "    'boosting_type': 'gbdt',\n",
    "    'objective': 'regression',\n",
    "    'metric': 'l2',\n",
    "    'num_leaves': 31,\n",
    "    'learning_rate': 0.05,\n",
    "    'feature_fraction': 0.9,\n",
    "    'bagging_fraction': 0.8,\n",
    "    'bagging_freq': 5,\n",
    "    'verbose': 0\n",
    "}\n",
    "\n",
    "# Fit the model with early stopping (monitors test set)\n",
    "gbm = lgb.train(params, lgb_train, valid_sets=lgb_eval, num_boost_round=1000, early_stopping_rounds=5)\n",
    "y_pred = gbm.predict(X_test, num_iteration=gbm.best_iteration)\n",
    "print('The rmse of prediction is:', mean_squared_error(y_test, y_pred) ** 0.5)"
   ]
  },
  {
   "cell_type": "markdown",
   "metadata": {},
   "source": [
    "### 10.13 - Interpretation"
   ]
  },
  {
   "cell_type": "markdown",
   "metadata": {},
   "source": [
    "* While decisions trees are highly interpretable (you can draw the chart), boosted trees are not so much.\n",
    "* Variable importance - one way to do this is to sum over the trees the squared-error improvement contributed by each variable in an internal node split.\n",
    "* Partial-dependence plot - attempt to understand the nature of the dependence of the approximation $f(X)$ on the most relevant variables joint values."
   ]
  },
  {
   "cell_type": "code",
   "execution_count": 2,
   "metadata": {},
   "outputs": [
    {
     "data": {
      "text/html": [
       "<div>\n",
       "<style scoped>\n",
       "    .dataframe tbody tr th:only-of-type {\n",
       "        vertical-align: middle;\n",
       "    }\n",
       "\n",
       "    .dataframe tbody tr th {\n",
       "        vertical-align: top;\n",
       "    }\n",
       "\n",
       "    .dataframe thead th {\n",
       "        text-align: right;\n",
       "    }\n",
       "</style>\n",
       "<table border=\"1\" class=\"dataframe\">\n",
       "  <thead>\n",
       "    <tr style=\"text-align: right;\">\n",
       "      <th></th>\n",
       "      <th>Importance Score</th>\n",
       "      <th>Feature Name</th>\n",
       "    </tr>\n",
       "  </thead>\n",
       "  <tbody>\n",
       "    <tr>\n",
       "      <th>0</th>\n",
       "      <td>186</td>\n",
       "      <td>Column_5</td>\n",
       "    </tr>\n",
       "    <tr>\n",
       "      <th>1</th>\n",
       "      <td>178</td>\n",
       "      <td>Column_12</td>\n",
       "    </tr>\n",
       "    <tr>\n",
       "      <th>2</th>\n",
       "      <td>134</td>\n",
       "      <td>Column_7</td>\n",
       "    </tr>\n",
       "    <tr>\n",
       "      <th>3</th>\n",
       "      <td>126</td>\n",
       "      <td>Column_0</td>\n",
       "    </tr>\n",
       "    <tr>\n",
       "      <th>4</th>\n",
       "      <td>98</td>\n",
       "      <td>Column_6</td>\n",
       "    </tr>\n",
       "    <tr>\n",
       "      <th>5</th>\n",
       "      <td>98</td>\n",
       "      <td>Column_4</td>\n",
       "    </tr>\n",
       "    <tr>\n",
       "      <th>6</th>\n",
       "      <td>78</td>\n",
       "      <td>Column_11</td>\n",
       "    </tr>\n",
       "    <tr>\n",
       "      <th>7</th>\n",
       "      <td>71</td>\n",
       "      <td>Column_10</td>\n",
       "    </tr>\n",
       "    <tr>\n",
       "      <th>8</th>\n",
       "      <td>65</td>\n",
       "      <td>Column_9</td>\n",
       "    </tr>\n",
       "    <tr>\n",
       "      <th>9</th>\n",
       "      <td>49</td>\n",
       "      <td>Column_2</td>\n",
       "    </tr>\n",
       "    <tr>\n",
       "      <th>10</th>\n",
       "      <td>22</td>\n",
       "      <td>Column_8</td>\n",
       "    </tr>\n",
       "    <tr>\n",
       "      <th>11</th>\n",
       "      <td>5</td>\n",
       "      <td>Column_3</td>\n",
       "    </tr>\n",
       "    <tr>\n",
       "      <th>12</th>\n",
       "      <td>2</td>\n",
       "      <td>Column_1</td>\n",
       "    </tr>\n",
       "  </tbody>\n",
       "</table>\n",
       "</div>"
      ],
      "text/plain": [
       "    Importance Score Feature Name\n",
       "0                186     Column_5\n",
       "1                178    Column_12\n",
       "2                134     Column_7\n",
       "3                126     Column_0\n",
       "4                 98     Column_6\n",
       "5                 98     Column_4\n",
       "6                 78    Column_11\n",
       "7                 71    Column_10\n",
       "8                 65     Column_9\n",
       "9                 49     Column_2\n",
       "10                22     Column_8\n",
       "11                 5     Column_3\n",
       "12                 2     Column_1"
      ]
     },
     "execution_count": 2,
     "metadata": {},
     "output_type": "execute_result"
    },
    {
     "data": {
      "image/png": "[encoded data removed]",
      "text/plain": [
       "<Figure size 432x288 with 1 Axes>"
      ]
     },
     "metadata": {
      "needs_background": "light"
     },
     "output_type": "display_data"
    }
   ],
   "source": [
    "import pandas\n",
    "%matplotlib inline\n",
    "\n",
    "importances = gbm.feature_importance()\n",
    "df_importance = pandas.DataFrame(sorted(zip(importances, gbm.feature_name()),\n",
    "                                       reverse=True), \n",
    "columns = ['Importance Score', 'Feature Name'])\n",
    "    \n",
    "df_importance.plot.bar(x='Feature Name', y= 'Importance Score')\n",
    "df_importance"
   ]
  },
  {
   "cell_type": "markdown",
   "metadata": {},
   "source": [
    "### 10.14 - Illustrations"
   ]
  },
  {
   "cell_type": "markdown",
   "metadata": {},
   "source": [
    "* The choice of a particular value of M is not critical, as long as it is not too small. This tends to be the case in many applications. The shrinkage strategy tends to eliminate the problem of overfitting, especially for larger data sets.\n",
    "* Because of their ability to model interactions and automatically select variables, as well as robustness to outliers and missing data, GBM models are rapidly gaining popularity."
   ]
  }
 ],
 "metadata": {
  "kernelspec": {
   "display_name": "Python 3",
   "language": "python",
   "name": "python3"
  },
  "language_info": {
   "codemirror_mode": {
    "name": "ipython",
    "version": 3
   },
   "file_extension": ".py",
   "mimetype": "text/x-python",
   "name": "python",
   "nbconvert_exporter": "python",
   "pygments_lexer": "ipython3",
   "version": "3.6.9"
  }
 },
 "nbformat": 4,
 "nbformat_minor": 4
}
