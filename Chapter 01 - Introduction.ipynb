{
 "cells": [
  {
   "cell_type": "markdown",
   "metadata": {
    "deletable": true,
    "editable": true
   },
   "source": [
    "# Chapter 1 - Introduction"
   ]
  },
  {
   "cell_type": "markdown",
   "metadata": {
    "deletable": true,
    "editable": true
   },
   "source": [
    "## Definitions"
   ]
  },
  {
   "cell_type": "markdown",
   "metadata": {
    "deletable": true,
    "editable": true
   },
   "source": [
    "Two types of outcomes to model:\n",
    "    \n",
    "**Quantitative** - for example -- stock price, number of accidents, etc.\n",
    "\n",
    "**Categorical** - for example -- binary yes/no outcome, species of flower, etc.\n",
    "\n",
    "Quantitative variables are on the real number line while qualitative variables are not.\n",
    "\n",
    "**Features** - The *independent variables* in your model.  e.g. I am modeling the outcome heart attack/no heart attack as a function of diet and other clinical measurements. The diet and clinical measurements are the features while heart attack/no heart attack is the outcome/dependent variable/response.  Dependent variables *depend* on the independent variables.\n",
    "\n",
    "**Training set** - A set of observed outcomes and features that we can use to make our model learn.\n",
    "\n",
    "**Supervised learning** -- We have observed the features AND the outcome.\n",
    "\n",
    "**Unsupervised learning** -- We observe the features but have no measurable observation of the outcome.\n",
    "\n"
   ]
  },
  {
   "cell_type": "markdown",
   "metadata": {
    "deletable": true,
    "editable": true
   },
   "source": [
    "## Other notes"
   ]
  },
  {
   "cell_type": "markdown",
   "metadata": {
    "deletable": true,
    "editable": true
   },
   "source": [
    "Example 1:\n",
    "\n",
    "* Not all errors are equal. In the spam example, the consequences of letting spam through is LESS then the consequences of blocking an important e-mail. This is an example of tuning desired precision vs. recall tradeoff.  \n",
    "\n",
    "Example 3:\n",
    "\n",
    "* Notice that the handwritten image digits were \"normalized\" to be all the same size, regardless of how they were initially captured. For some algorithms, it is important to normalize your data so the learner does not get confused by having to deal with this additional complexity."
   ]
  }
 ],
 "metadata": {
  "kernelspec": {
   "display_name": "Python 3",
   "language": "python",
   "name": "python3"
  },
  "language_info": {
   "codemirror_mode": {
    "name": "ipython",
    "version": 3
   },
   "file_extension": ".py",
   "mimetype": "text/x-python",
   "name": "python",
   "nbconvert_exporter": "python",
   "pygments_lexer": "ipython3",
   "version": "3.6.9"
  }
 },
 "nbformat": 4,
 "nbformat_minor": 4
}
