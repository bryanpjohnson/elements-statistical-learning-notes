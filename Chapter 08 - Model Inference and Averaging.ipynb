{
 "cells": [
  {
   "cell_type": "markdown",
   "metadata": {},
   "source": [
    "# Chapter 8 - Model Inference and Averaging"
   ]
  },
  {
   "cell_type": "markdown",
   "metadata": {},
   "source": [
    "### Section 8.1 - Introduction\n",
    "* Fitting of models up to this point has been by least squares or minimising cross-entropy for classification. Both of these are instances of maximum likelihood approach.\n",
    "* In this chapter, we go over the maximum likelihood approach as well as the Bayesian method for inference."
   ]
  },
  {
   "cell_type": "markdown",
   "metadata": {},
   "source": [
    "### Section 8.2 - The Bootstrap and Maximum Likelihood Methods"
   ]
  },
  {
   "cell_type": "markdown",
   "metadata": {},
   "source": [
    "* Non-parameteric bootstrap -- what we discussed in Chapter 7. New datasets are generated without a specific parametric model. They are \"model free\".\n",
    "* Parametric bootstrap -- simulates new responses by adding Gaussian noise to the predicted values.\n",
    "* Likelihood function -- probability of the observed data under the model specificied by $g_\\theta$, the probability density function:  $L(\\theta; Z) = \\prod_{i=1}^{N} g_{\\theta}(z_i)$.\n",
    "* Maximum likelihood function seeks to maximimize the log of the function $L$ by picking the best $\\theta$ given fixed data, $Z$.\n",
    "* The score function is defined as the partial derivative of the log-likelihood function evaluated at $\\theta$ and $Z$. The information matrix, $I(\\theta)$ is the negative of the second partial derivative.\n",
    "* The expected value of $I(\\theta)$ is the Fisher information.\n",
    "* Computing the maximum likelihood uses standard calculus for maximizing functions."
   ]
  },
  {
   "cell_type": "markdown",
   "metadata": {},
   "source": [
    "### Section 8.3 - Bayesian Methods"
   ]
  },
  {
   "cell_type": "markdown",
   "metadata": {},
   "source": [
    "* In Bayesian approach, we specific a sampling density function $Pr(Z|\\theta)$ for our data given the parameters. \n",
    "* We also specify a prior distribution $Pr(\\theta)$ reflecting our knowledge about $\\theta$ before we see the data.\n",
    "* Next, we compute the posterior distribution $Pr(\\theta|Z) = \\frac{Pr(Z|\\theta)Pr(\\theta)}{\\int Pr(Z|\\theta)Pr(\\theta) d\\theta}$. This represents our knowledge about $\\theta$ after we see the data.\n",
    "* This gives you a probability distribution for what $\\theta$ is,  given our data."
   ]
  },
  {
   "cell_type": "markdown",
   "metadata": {},
   "source": [
    "### Section 8.4 - Relationship Between the Bootstrap and Bayesian Inference"
   ]
  },
  {
   "cell_type": "markdown",
   "metadata": {},
   "source": [
    "* The bootstrap distribution represents an approximate, nonparametric, noninformative, posterior distribution for our parameter $\\theta$.\n",
    "* The advantage of the bootstrap is that we did not have to formally specify a prior, nor sample from the posterior -- it is a 'poor mans' Bayes posterior.\n",
    "* By perturbing the data (parametric bootstrap), the bootstrap approximates the Bayesian effect of perturbing the parameters."
   ]
  },
  {
   "cell_type": "markdown",
   "metadata": {},
   "source": [
    "### Section 8.5 - The EM Algorithm"
   ]
  },
  {
   "cell_type": "markdown",
   "metadata": {},
   "source": [
    "* Tool for simplifying difficult maximum likelihood problems (e.g. Gaussian mixture).\n",
    "* An expectation–maximization (EM) algorithm is an iterative method to find maximum likelihood or maximum a posteriori (MAP) estimates of parameters in statistical models, where the model depends on unobserved latent variables.\n",
    "* Latent variables are variables that are not directly observed but are rather inferred.\n",
    "* One can simply pick arbitrary values for one of the two sets of unknowns, use them to estimate the second set, then use these new values to find a better estimate of the first set, and then keep alternating between the two until the resulting values both converge to fixed points.\n",
    "* The EM iteration alternates between performing an expectation (E) step, which creates a function for the expectation of the log-likelihood evaluated using the current estimate for the parameters, and a maximization (M) step, which computes parameters maximizing the expected log-likelihood found on the E step. These parameter-estimates are then used to determine the distribution of the latent variables in the next E step."
   ]
  },
  {
   "cell_type": "code",
   "execution_count": 1,
   "metadata": {},
   "outputs": [],
   "source": [
    "from sklearn.datasets import load_diabetes\n",
    "from sklearn.model_selection import train_test_split\n",
    "X,y = load_diabetes(return_X_y=True)\n",
    "X_train, X_test, y_train, y_test = train_test_split(X, y, test_size=0.33, random_state=10)"
   ]
  },
  {
   "cell_type": "code",
   "execution_count": 2,
   "metadata": {},
   "outputs": [
    {
     "name": "stdout",
     "output_type": "stream",
     "text": [
      "RSS: 28682.72602739726\n",
      "Mixture weight 1: 0.6761650172754295\n",
      "Mixture weight 2: 0.3238349827245701\n"
     ]
    }
   ],
   "source": [
    "# sklearn Gaussian Mixture uses EM algorithm to fit\n",
    "from sklearn.mixture import GaussianMixture\n",
    "import numpy as np\n",
    "\n",
    "gm = GaussianMixture(n_components=2, covariance_type='full', tol=0.001, reg_covar=1e-06, max_iter=100, n_init=1, \n",
    "                     init_params='kmeans', weights_init=None, means_init=None, precisions_init=None, \n",
    "                     random_state=None, warm_start=False, verbose=0, verbose_interval=10)\n",
    "\n",
    "# Train the model using the training sets\n",
    "gm.fit(X_train, y_train)\n",
    "\n",
    "# Predict and compute RSS on test set\n",
    "predictions_test = gm.predict(X_test)\n",
    "rss = np.mean((predictions_test - y_test) ** 2)\n",
    "print('RSS: {}'.format(rss))\n",
    "print('Mixture weight 1: {}'.format(gm.weights_[0]))\n",
    "print('Mixture weight 2: {}'.format(gm.weights_[1]))"
   ]
  },
  {
   "cell_type": "markdown",
   "metadata": {},
   "source": [
    "### Section 8.6 - MCMC for Sampling from the Posterior"
   ]
  },
  {
   "cell_type": "markdown",
   "metadata": {},
   "source": [
    "* We often want to draw samples from the posterior Bayesian in order to perform inference on the parameters.\n",
    "* Gibbs sampling, an MCMC (Markov Chain Monte Carlo) procedure, is closely related to the EM algorithm. The main difference is that it samples from the conditional distributions instead of maximizing over them.\n",
    "* Suppose we have random variables $U_1, U_2, \\dots, U_K$ and we wish to draw a sample from their joint distribution. Suppose this is difficult to do but it is easy to simulate from the conditional distributions $Pr(U_j | U_1, U_2, ... U_{j-1}, U_{j+1}, \\dots, U_k)$.  Gibbs sampling alternatively simulates from each of these distributions until the process stabilizes.  Once stabilized, it provides a sample from the desired joint distribution.\n",
    "* The samples are not independent for different $t$.\n",
    "* Gibbs sampling produces a Markov chain whose stationary distribution is the true joint distribution.\n",
    "* Gibbs sampling is just one of a number of recently developed procedures for sampling from posterior distributions. It uses conditional sampling of each parameter given the rest, and is useful when the structure of the problem makes this sampling easy to carry out. Other methods do not require such structure, for example the Metropolis–Hastings algorithm.\n",
    "* As with other MCMC algorithms, Gibbs sampling generates a Markov chain of samples, each of which is correlated with nearby samples. As a result, care must be taken if independent samples are desired (typically by thinning the resulting chain of samples by only taking every nth value, e.g. every 100th value). In addition, samples from the beginning of the chain (the burn-in period) may not accurately represent the desired distribution.\n"
   ]
  },
  {
   "cell_type": "code",
   "execution_count": 3,
   "metadata": {},
   "outputs": [
    {
     "name": "stderr",
     "output_type": "stream",
     "text": [
      "WARNING (theano.tensor.blas): Using NumPy C-API based implementation for BLAS functions.\n",
      "Auto-assigning NUTS sampler...\n",
      "Initializing NUTS using jitter+adapt_diag...\n",
      "Multiprocess sampling (4 chains in 4 jobs)\n",
      "NUTS: [lambda]\n",
      "Sampling 4 chains, 0 divergences: 100%|██████████| 14000/14000 [00:02<00:00, 5589.16draws/s]\n"
     ]
    }
   ],
   "source": [
    "import numpy as np\n",
    "import pymc3 as pm\n",
    "import theano.tensor as tt\n",
    "\n",
    "\n",
    "def build_model():\n",
    "    # data\n",
    "    failure = np.array([0., 1.])\n",
    "    value = np.array([1., 0.])\n",
    "    \n",
    "    # Custom log-likelihood\n",
    "    def logp(failure, value):\n",
    "        return tt.sum(failure * tt.log(lam) - lam * value)\n",
    "    \n",
    "    # Model is an exponential distribution\n",
    "    with pm.Model() as model:\n",
    "        lam = pm.Exponential('lambda', 1.)\n",
    "        pm.DensityDist('x', logp, observed={'failure': failure, 'value': value})\n",
    "    return model\n",
    "\n",
    "def run(n_samples=3000):\n",
    "    model = build_model()\n",
    "    \n",
    "    with model:\n",
    "        trace = pm.sample(n_samples)\n",
    "        \n",
    "    return trace\n",
    "\n",
    "trace = run()"
   ]
  },
  {
   "cell_type": "code",
   "execution_count": 4,
   "metadata": {},
   "outputs": [
    {
     "data": {
      "text/plain": [
       "Text(0.5, 0, 'lambda')"
      ]
     },
     "execution_count": 4,
     "metadata": {},
     "output_type": "execute_result"
    },
    {
     "data": {
      "image/png": "[encoded data removed]",
      "text/plain": [
       "<Figure size 432x288 with 1 Axes>"
      ]
     },
     "metadata": {
      "needs_background": "light"
     },
     "output_type": "display_data"
    }
   ],
   "source": [
    "import matplotlib.pyplot as plt\n",
    "%matplotlib inline\n",
    "\n",
    "plt.hist(trace.get_values('lambda'))\n",
    "plt.title('Posterior distribution of lambda')\n",
    "plt.xlabel('lambda')"
   ]
  },
  {
   "cell_type": "markdown",
   "metadata": {},
   "source": [
    "### Section 8.7 - Bagging"
   ]
  },
  {
   "cell_type": "markdown",
   "metadata": {},
   "source": [
    "* Bagging = bootstrap aggregation.  \n",
    "* Bootstrap is a way of assessing the accuracy of a parameter estimate or a prediction, but can also be used to improve the prediction itself. \n",
    "* In Section 8.4 we investigated the relationship between the bootstrap and Bayes approaches, and found that the bootstrap mean is approximately a posterior average. Bagging further exploits this connection.\n",
    "* The bagged estimate is produced by averaging the original predicted value across all bootstramp samples.\n",
    "* For classification, we can understand the bagging effect in terms of a consensus of independent weak learners.\n",
    "* Random forests improve on bagging by reducing the correlation between the sampled trees.  More independence between trees = better.\n",
    "* When we bag a model, any simple structure in the model is lost. As an example, a bagged tree is no longer a tree. For interpretation of the model this is clearly a drawback."
   ]
  },
  {
   "cell_type": "code",
   "execution_count": 6,
   "metadata": {},
   "outputs": [
    {
     "name": "stdout",
     "output_type": "stream",
     "text": [
      "Sample: 1 \n",
      " MSE: 58.42873437154151, Variance: 21.410614829977032\n",
      "\n",
      "Sample: 2 \n",
      " MSE: 57.914211652173904, Variance: 17.644707574872285\n",
      "\n",
      "Sample: 3 \n",
      " MSE: 57.73812079841897, Variance: 22.463031214751048\n",
      "\n",
      "Sample: 4 \n",
      " MSE: 58.22995380237154, Variance: 26.464593412051432\n",
      "\n",
      "Sample: 5 \n",
      " MSE: 59.82179012648221, Variance: 23.82376567927948\n",
      "\n",
      "Sample: 6 \n",
      " MSE: 57.553727976284584, Variance: 19.735853019934698\n",
      "\n",
      "Sample: 7 \n",
      " MSE: 57.74765652173913, Variance: 19.664247502319988\n",
      "\n",
      "Sample: 8 \n",
      " MSE: 60.537175525691694, Variance: 14.479234291740223\n",
      "\n",
      "Sample: 9 \n",
      " MSE: 58.200603154150194, Variance: 17.47038681880673\n",
      "\n",
      "Sample: 10 \n",
      " MSE: 56.85766235573122, Variance: 25.435749326375976\n",
      "\n"
     ]
    }
   ],
   "source": [
    "# Similar to bootstrap example from Chapter 7\n",
    "from sklearn.utils import resample\n",
    "from sklearn.datasets import load_boston\n",
    "from sklearn.neighbors import KNeighborsRegressor\n",
    "from sklearn.metrics import mean_squared_error\n",
    "import numpy as np\n",
    "import pandas\n",
    "\n",
    "boston = load_boston()\n",
    "X = boston.data\n",
    "y = boston.target\n",
    "df = pandas.DataFrame(boston.data, columns=boston.feature_names)\n",
    "\n",
    "B = 10\n",
    "all_predictions = []\n",
    "\n",
    "for i in range(B):\n",
    "    X_bootstrap, y_bootstrap = resample(X, y)\n",
    "    \n",
    "    knn = KNeighborsRegressor(n_neighbors=50, weights='uniform', algorithm='auto', leaf_size=30, p=2, \n",
    "                          metric='minkowski', metric_params=None, n_jobs=-1)\n",
    "    \n",
    "    knn.fit(X_bootstrap, y_bootstrap)\n",
    "    predictions = knn.predict(X)\n",
    "    e = mean_squared_error(y, predictions)\n",
    "    all_predictions.append(predictions)\n",
    "    \n",
    "    df['bootstrap{}'.format(i)] = predictions\n",
    "    \n",
    "    print('Sample: {} \\n MSE: {}, Variance: {}\\n'.format(\n",
    "        i+1,\n",
    "        e,\n",
    "        predictions.var(),\n",
    "    ))"
   ]
  },
  {
   "cell_type": "code",
   "execution_count": 7,
   "metadata": {},
   "outputs": [
    {
     "data": {
      "text/html": [
       "<div>\n",
       "<style scoped>\n",
       "    .dataframe tbody tr th:only-of-type {\n",
       "        vertical-align: middle;\n",
       "    }\n",
       "\n",
       "    .dataframe tbody tr th {\n",
       "        vertical-align: top;\n",
       "    }\n",
       "\n",
       "    .dataframe thead th {\n",
       "        text-align: right;\n",
       "    }\n",
       "</style>\n",
       "<table border=\"1\" class=\"dataframe\">\n",
       "  <thead>\n",
       "    <tr style=\"text-align: right;\">\n",
       "      <th></th>\n",
       "      <th>bootstrap0</th>\n",
       "      <th>bootstrap1</th>\n",
       "      <th>bootstrap2</th>\n",
       "      <th>bootstrap3</th>\n",
       "      <th>bootstrap4</th>\n",
       "      <th>bootstrap5</th>\n",
       "      <th>bootstrap6</th>\n",
       "      <th>bootstrap7</th>\n",
       "      <th>bootstrap8</th>\n",
       "      <th>bootstrap9</th>\n",
       "      <th>bagged_estimate</th>\n",
       "    </tr>\n",
       "  </thead>\n",
       "  <tbody>\n",
       "    <tr>\n",
       "      <th>0</th>\n",
       "      <td>24.000</td>\n",
       "      <td>23.854</td>\n",
       "      <td>24.032</td>\n",
       "      <td>25.838</td>\n",
       "      <td>23.104</td>\n",
       "      <td>26.328</td>\n",
       "      <td>23.542</td>\n",
       "      <td>24.066</td>\n",
       "      <td>23.326</td>\n",
       "      <td>23.480</td>\n",
       "      <td>24.1570</td>\n",
       "    </tr>\n",
       "    <tr>\n",
       "      <th>1</th>\n",
       "      <td>27.028</td>\n",
       "      <td>26.970</td>\n",
       "      <td>27.396</td>\n",
       "      <td>28.332</td>\n",
       "      <td>26.544</td>\n",
       "      <td>27.500</td>\n",
       "      <td>27.202</td>\n",
       "      <td>27.090</td>\n",
       "      <td>26.212</td>\n",
       "      <td>29.808</td>\n",
       "      <td>27.4082</td>\n",
       "    </tr>\n",
       "    <tr>\n",
       "      <th>2</th>\n",
       "      <td>24.838</td>\n",
       "      <td>25.562</td>\n",
       "      <td>28.922</td>\n",
       "      <td>25.820</td>\n",
       "      <td>24.958</td>\n",
       "      <td>25.708</td>\n",
       "      <td>25.130</td>\n",
       "      <td>26.290</td>\n",
       "      <td>25.618</td>\n",
       "      <td>27.336</td>\n",
       "      <td>26.0182</td>\n",
       "    </tr>\n",
       "    <tr>\n",
       "      <th>3</th>\n",
       "      <td>26.208</td>\n",
       "      <td>27.870</td>\n",
       "      <td>30.368</td>\n",
       "      <td>28.858</td>\n",
       "      <td>27.216</td>\n",
       "      <td>27.902</td>\n",
       "      <td>25.810</td>\n",
       "      <td>27.040</td>\n",
       "      <td>27.794</td>\n",
       "      <td>28.464</td>\n",
       "      <td>27.7530</td>\n",
       "    </tr>\n",
       "    <tr>\n",
       "      <th>4</th>\n",
       "      <td>26.522</td>\n",
       "      <td>27.998</td>\n",
       "      <td>30.088</td>\n",
       "      <td>28.766</td>\n",
       "      <td>27.256</td>\n",
       "      <td>28.358</td>\n",
       "      <td>25.730</td>\n",
       "      <td>26.998</td>\n",
       "      <td>27.562</td>\n",
       "      <td>28.940</td>\n",
       "      <td>27.8218</td>\n",
       "    </tr>\n",
       "    <tr>\n",
       "      <th>...</th>\n",
       "      <td>...</td>\n",
       "      <td>...</td>\n",
       "      <td>...</td>\n",
       "      <td>...</td>\n",
       "      <td>...</td>\n",
       "      <td>...</td>\n",
       "      <td>...</td>\n",
       "      <td>...</td>\n",
       "      <td>...</td>\n",
       "      <td>...</td>\n",
       "      <td>...</td>\n",
       "    </tr>\n",
       "    <tr>\n",
       "      <th>501</th>\n",
       "      <td>25.858</td>\n",
       "      <td>24.450</td>\n",
       "      <td>23.192</td>\n",
       "      <td>24.448</td>\n",
       "      <td>24.460</td>\n",
       "      <td>25.630</td>\n",
       "      <td>24.870</td>\n",
       "      <td>23.012</td>\n",
       "      <td>24.582</td>\n",
       "      <td>27.308</td>\n",
       "      <td>24.7810</td>\n",
       "    </tr>\n",
       "    <tr>\n",
       "      <th>502</th>\n",
       "      <td>24.914</td>\n",
       "      <td>23.708</td>\n",
       "      <td>24.502</td>\n",
       "      <td>24.936</td>\n",
       "      <td>26.050</td>\n",
       "      <td>26.576</td>\n",
       "      <td>24.526</td>\n",
       "      <td>24.678</td>\n",
       "      <td>24.546</td>\n",
       "      <td>27.934</td>\n",
       "      <td>25.2370</td>\n",
       "    </tr>\n",
       "    <tr>\n",
       "      <th>503</th>\n",
       "      <td>25.100</td>\n",
       "      <td>24.910</td>\n",
       "      <td>25.642</td>\n",
       "      <td>25.962</td>\n",
       "      <td>25.798</td>\n",
       "      <td>26.956</td>\n",
       "      <td>24.698</td>\n",
       "      <td>22.834</td>\n",
       "      <td>25.034</td>\n",
       "      <td>27.874</td>\n",
       "      <td>25.4808</td>\n",
       "    </tr>\n",
       "    <tr>\n",
       "      <th>504</th>\n",
       "      <td>25.100</td>\n",
       "      <td>24.828</td>\n",
       "      <td>25.718</td>\n",
       "      <td>26.058</td>\n",
       "      <td>26.808</td>\n",
       "      <td>26.956</td>\n",
       "      <td>24.698</td>\n",
       "      <td>23.018</td>\n",
       "      <td>25.498</td>\n",
       "      <td>27.924</td>\n",
       "      <td>25.6606</td>\n",
       "    </tr>\n",
       "    <tr>\n",
       "      <th>505</th>\n",
       "      <td>25.068</td>\n",
       "      <td>24.214</td>\n",
       "      <td>25.438</td>\n",
       "      <td>24.624</td>\n",
       "      <td>25.980</td>\n",
       "      <td>26.970</td>\n",
       "      <td>24.282</td>\n",
       "      <td>24.810</td>\n",
       "      <td>24.450</td>\n",
       "      <td>28.058</td>\n",
       "      <td>25.3894</td>\n",
       "    </tr>\n",
       "  </tbody>\n",
       "</table>\n",
       "<p>506 rows × 11 columns</p>\n",
       "</div>"
      ],
      "text/plain": [
       "     bootstrap0  bootstrap1  bootstrap2  bootstrap3  bootstrap4  bootstrap5  \\\n",
       "0        24.000      23.854      24.032      25.838      23.104      26.328   \n",
       "1        27.028      26.970      27.396      28.332      26.544      27.500   \n",
       "2        24.838      25.562      28.922      25.820      24.958      25.708   \n",
       "3        26.208      27.870      30.368      28.858      27.216      27.902   \n",
       "4        26.522      27.998      30.088      28.766      27.256      28.358   \n",
       "..          ...         ...         ...         ...         ...         ...   \n",
       "501      25.858      24.450      23.192      24.448      24.460      25.630   \n",
       "502      24.914      23.708      24.502      24.936      26.050      26.576   \n",
       "503      25.100      24.910      25.642      25.962      25.798      26.956   \n",
       "504      25.100      24.828      25.718      26.058      26.808      26.956   \n",
       "505      25.068      24.214      25.438      24.624      25.980      26.970   \n",
       "\n",
       "     bootstrap6  bootstrap7  bootstrap8  bootstrap9  bagged_estimate  \n",
       "0        23.542      24.066      23.326      23.480          24.1570  \n",
       "1        27.202      27.090      26.212      29.808          27.4082  \n",
       "2        25.130      26.290      25.618      27.336          26.0182  \n",
       "3        25.810      27.040      27.794      28.464          27.7530  \n",
       "4        25.730      26.998      27.562      28.940          27.8218  \n",
       "..          ...         ...         ...         ...              ...  \n",
       "501      24.870      23.012      24.582      27.308          24.7810  \n",
       "502      24.526      24.678      24.546      27.934          25.2370  \n",
       "503      24.698      22.834      25.034      27.874          25.4808  \n",
       "504      24.698      23.018      25.498      27.924          25.6606  \n",
       "505      24.282      24.810      24.450      28.058          25.3894  \n",
       "\n",
       "[506 rows x 11 columns]"
      ]
     },
     "execution_count": 7,
     "metadata": {},
     "output_type": "execute_result"
    }
   ],
   "source": [
    "# Average all predictions\n",
    "df['bagged_estimate'] = np.array(all_predictions).mean(axis=0)\n",
    "df[[c for c in df.columns if 'bootstrap' in c or c == 'bagged_estimate']]"
   ]
  },
  {
   "cell_type": "markdown",
   "metadata": {},
   "source": [
    "### Section 8.8 - Model Averaging and Stacking"
   ]
  },
  {
   "cell_type": "markdown",
   "metadata": {},
   "source": [
    "* Averaging the output of multiple model forms.\n",
    "* Committee methods take a simple unweighted average of the predictions from each model.\n",
    "* Weighting by BIC is another more ambitious option. Other non-equal weighting schemes also exist.\n",
    "* Stacked generalization (stacking) takes into account the complexity of the model when weighting the predictions.\n",
    "* Stacking works by fitting a least squares regression on $y_i$ as a function of the model predictions to determine the weighting."
   ]
  },
  {
   "cell_type": "markdown",
   "metadata": {},
   "source": [
    "### Section 8.9 - Stochastic Search: Bumping"
   ]
  },
  {
   "cell_type": "markdown",
   "metadata": {},
   "source": [
    "* Bumping uses bootstrap sampling to move randomly through model space. This can help a fitting method avoid getting stuck in a local minima.\n",
    "* As in bagging, we draw bootstrap samples and fit a model to each. But rather than average the predictions, we choose the model estimated from a bootstrap sample that best fits the training data. We choose the model that produces the smallest prediction error, averaged over the original training set. \n",
    "* By perturbing the data, bumping tries to move the fitting procedure around to good areas of model space. For example, if a few data points are causing the procedure to find a poor solution, any bootstrap sample that omits those data points should procedure a better solution."
   ]
  }
 ],
 "metadata": {
  "kernelspec": {
   "display_name": "Python 3",
   "language": "python",
   "name": "python3"
  },
  "language_info": {
   "codemirror_mode": {
    "name": "ipython",
    "version": 3
   },
   "file_extension": ".py",
   "mimetype": "text/x-python",
   "name": "python",
   "nbconvert_exporter": "python",
   "pygments_lexer": "ipython3",
   "version": "3.6.9"
  }
 },
 "nbformat": 4,
 "nbformat_minor": 4
}
